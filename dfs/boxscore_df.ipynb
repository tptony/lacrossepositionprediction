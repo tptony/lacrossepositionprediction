{
 "cells": [
  {
   "cell_type": "markdown",
   "metadata": {},
   "source": [
    "Since I'm going to reference a single dataframe a lot, it makes sense to create it once instead of constantly going to the postegresql server for data retrieval. This process will also preprocess the df by changing the column header of goalie_minutes to goalie_seconds, replacing bad position labels with blanks, and replacing alternate positions names with generic A/M/D/G"
   ]
  },
  {
   "cell_type": "code",
   "execution_count": 1,
   "metadata": {},
   "outputs": [],
   "source": [
    "import sys\n",
    "sys.path.insert(0, '../..')\n",
    "\n",
    "import pandas as pd\n",
    "import numpy as np\n",
    "from sklearn.neighbors import KNeighborsClassifier\n",
    "from sklearn.model_selection import train_test_split\n",
    "import helpers.laxdb as laxdb\n",
    "LaxDB = laxdb.LaxDB"
   ]
  },
  {
   "cell_type": "markdown",
   "metadata": {},
   "source": [
    "SELECT data from Postegresql server"
   ]
  },
  {
   "cell_type": "code",
   "execution_count": 2,
   "metadata": {},
   "outputs": [],
   "source": [
    "box = \"\"\"\n",
    "SELECT * from ncaa.box_scores;\n",
    "\"\"\"\n",
    "boxdata = LaxDB().query(box)\n",
    "\n",
    "teams = \"\"\"\n",
    "SELECT id, name from ncaa.teams;\n",
    "\"\"\"\n",
    "teamdata = LaxDB().query(teams)"
   ]
  },
  {
   "cell_type": "markdown",
   "metadata": {},
   "source": [
    "No need to leave the connection open after the data is retrieved"
   ]
  },
  {
   "cell_type": "code",
   "execution_count": 3,
   "metadata": {},
   "outputs": [],
   "source": [
    "LaxDB().close()"
   ]
  },
  {
   "cell_type": "markdown",
   "metadata": {},
   "source": [
    "Merge the two sets of data on common field"
   ]
  },
  {
   "cell_type": "code",
   "execution_count": 4,
   "metadata": {},
   "outputs": [
    {
     "data": {
      "text/html": [
       "<div>\n",
       "<style scoped>\n",
       "    .dataframe tbody tr th:only-of-type {\n",
       "        vertical-align: middle;\n",
       "    }\n",
       "\n",
       "    .dataframe tbody tr th {\n",
       "        vertical-align: top;\n",
       "    }\n",
       "\n",
       "    .dataframe thead th {\n",
       "        text-align: right;\n",
       "    }\n",
       "</style>\n",
       "<table border=\"1\" class=\"dataframe\">\n",
       "  <thead>\n",
       "    <tr style=\"text-align: right;\">\n",
       "      <th></th>\n",
       "      <th>id_x</th>\n",
       "      <th>name</th>\n",
       "      <th>id_y</th>\n",
       "      <th>game_id</th>\n",
       "      <th>team_id</th>\n",
       "      <th>player_id</th>\n",
       "      <th>position</th>\n",
       "      <th>player_name</th>\n",
       "      <th>goals</th>\n",
       "      <th>assists</th>\n",
       "      <th>...</th>\n",
       "      <th>caused_turnovers</th>\n",
       "      <th>faceoffs_won</th>\n",
       "      <th>faceoffs_taken</th>\n",
       "      <th>penalties</th>\n",
       "      <th>penalty_time</th>\n",
       "      <th>goalie_minutes</th>\n",
       "      <th>goals_allowed</th>\n",
       "      <th>goalie_saves</th>\n",
       "      <th>created_at</th>\n",
       "      <th>updated_at</th>\n",
       "    </tr>\n",
       "  </thead>\n",
       "  <tbody>\n",
       "    <tr>\n",
       "      <th>0</th>\n",
       "      <td>2</td>\n",
       "      <td>Binghamton</td>\n",
       "      <td>4712</td>\n",
       "      <td>1</td>\n",
       "      <td>2</td>\n",
       "      <td>41.0</td>\n",
       "      <td>D</td>\n",
       "      <td>Chris Bechle</td>\n",
       "      <td>0</td>\n",
       "      <td>0</td>\n",
       "      <td>...</td>\n",
       "      <td>0</td>\n",
       "      <td>0</td>\n",
       "      <td>0</td>\n",
       "      <td>1</td>\n",
       "      <td>30</td>\n",
       "      <td>0</td>\n",
       "      <td>0</td>\n",
       "      <td>0</td>\n",
       "      <td>2023-10-24 16:37:17.319077</td>\n",
       "      <td>2023-10-24 16:37:17.319077</td>\n",
       "    </tr>\n",
       "    <tr>\n",
       "      <th>1</th>\n",
       "      <td>2</td>\n",
       "      <td>Binghamton</td>\n",
       "      <td>4713</td>\n",
       "      <td>1</td>\n",
       "      <td>2</td>\n",
       "      <td>48.0</td>\n",
       "      <td>D</td>\n",
       "      <td>George Diegnan</td>\n",
       "      <td>0</td>\n",
       "      <td>0</td>\n",
       "      <td>...</td>\n",
       "      <td>0</td>\n",
       "      <td>1</td>\n",
       "      <td>2</td>\n",
       "      <td>0</td>\n",
       "      <td>0</td>\n",
       "      <td>0</td>\n",
       "      <td>0</td>\n",
       "      <td>0</td>\n",
       "      <td>2023-10-24 16:37:17.319077</td>\n",
       "      <td>2023-10-24 16:37:17.319077</td>\n",
       "    </tr>\n",
       "    <tr>\n",
       "      <th>2</th>\n",
       "      <td>2</td>\n",
       "      <td>Binghamton</td>\n",
       "      <td>4714</td>\n",
       "      <td>1</td>\n",
       "      <td>2</td>\n",
       "      <td>51.0</td>\n",
       "      <td>D</td>\n",
       "      <td>Sean Finnigan</td>\n",
       "      <td>0</td>\n",
       "      <td>0</td>\n",
       "      <td>...</td>\n",
       "      <td>0</td>\n",
       "      <td>0</td>\n",
       "      <td>0</td>\n",
       "      <td>0</td>\n",
       "      <td>0</td>\n",
       "      <td>0</td>\n",
       "      <td>0</td>\n",
       "      <td>0</td>\n",
       "      <td>2023-10-24 16:37:17.319077</td>\n",
       "      <td>2023-10-24 16:37:17.319077</td>\n",
       "    </tr>\n",
       "    <tr>\n",
       "      <th>3</th>\n",
       "      <td>2</td>\n",
       "      <td>Binghamton</td>\n",
       "      <td>4715</td>\n",
       "      <td>1</td>\n",
       "      <td>2</td>\n",
       "      <td>57.0</td>\n",
       "      <td>M</td>\n",
       "      <td>Matt Kaser</td>\n",
       "      <td>0</td>\n",
       "      <td>1</td>\n",
       "      <td>...</td>\n",
       "      <td>0</td>\n",
       "      <td>0</td>\n",
       "      <td>0</td>\n",
       "      <td>0</td>\n",
       "      <td>0</td>\n",
       "      <td>0</td>\n",
       "      <td>0</td>\n",
       "      <td>0</td>\n",
       "      <td>2023-10-24 16:37:17.319077</td>\n",
       "      <td>2023-10-24 16:37:17.319077</td>\n",
       "    </tr>\n",
       "    <tr>\n",
       "      <th>4</th>\n",
       "      <td>2</td>\n",
       "      <td>Binghamton</td>\n",
       "      <td>4716</td>\n",
       "      <td>1</td>\n",
       "      <td>2</td>\n",
       "      <td>63.0</td>\n",
       "      <td>M</td>\n",
       "      <td>Anthony Lombardo</td>\n",
       "      <td>0</td>\n",
       "      <td>0</td>\n",
       "      <td>...</td>\n",
       "      <td>0</td>\n",
       "      <td>0</td>\n",
       "      <td>0</td>\n",
       "      <td>0</td>\n",
       "      <td>0</td>\n",
       "      <td>0</td>\n",
       "      <td>0</td>\n",
       "      <td>0</td>\n",
       "      <td>2023-10-24 16:37:17.319077</td>\n",
       "      <td>2023-10-24 16:37:17.319077</td>\n",
       "    </tr>\n",
       "  </tbody>\n",
       "</table>\n",
       "<p>5 rows × 27 columns</p>\n",
       "</div>"
      ],
      "text/plain": [
       "   id_x        name  id_y  game_id  team_id  player_id position  \\\n",
       "0     2  Binghamton  4712        1        2       41.0        D   \n",
       "1     2  Binghamton  4713        1        2       48.0        D   \n",
       "2     2  Binghamton  4714        1        2       51.0        D   \n",
       "3     2  Binghamton  4715        1        2       57.0        M   \n",
       "4     2  Binghamton  4716        1        2       63.0        M   \n",
       "\n",
       "        player_name  goals  assists  ...  caused_turnovers  faceoffs_won  \\\n",
       "0      Chris Bechle      0        0  ...                 0             0   \n",
       "1    George Diegnan      0        0  ...                 0             1   \n",
       "2     Sean Finnigan      0        0  ...                 0             0   \n",
       "3        Matt Kaser      0        1  ...                 0             0   \n",
       "4  Anthony Lombardo      0        0  ...                 0             0   \n",
       "\n",
       "   faceoffs_taken  penalties  penalty_time  goalie_minutes  goals_allowed  \\\n",
       "0               0          1            30               0              0   \n",
       "1               2          0             0               0              0   \n",
       "2               0          0             0               0              0   \n",
       "3               0          0             0               0              0   \n",
       "4               0          0             0               0              0   \n",
       "\n",
       "   goalie_saves                 created_at                 updated_at  \n",
       "0             0 2023-10-24 16:37:17.319077 2023-10-24 16:37:17.319077  \n",
       "1             0 2023-10-24 16:37:17.319077 2023-10-24 16:37:17.319077  \n",
       "2             0 2023-10-24 16:37:17.319077 2023-10-24 16:37:17.319077  \n",
       "3             0 2023-10-24 16:37:17.319077 2023-10-24 16:37:17.319077  \n",
       "4             0 2023-10-24 16:37:17.319077 2023-10-24 16:37:17.319077  \n",
       "\n",
       "[5 rows x 27 columns]"
      ]
     },
     "execution_count": 4,
     "metadata": {},
     "output_type": "execute_result"
    }
   ],
   "source": [
    "boxscore_df = teamdata.merge(boxdata, left_on='id', right_on='team_id')\n",
    "boxscore_df.head()"
   ]
  },
  {
   "cell_type": "markdown",
   "metadata": {},
   "source": [
    "Change column name 'goalie_minutes' to 'goalie_seconds'"
   ]
  },
  {
   "cell_type": "code",
   "execution_count": 5,
   "metadata": {},
   "outputs": [],
   "source": [
    "boxscore_df.rename(columns={'goalie_minutes':'goalie_seconds'}, inplace=True)"
   ]
  },
  {
   "cell_type": "markdown",
   "metadata": {},
   "source": [
    "What are all of the unique positions in this dataframe"
   ]
  },
  {
   "cell_type": "code",
   "execution_count": 6,
   "metadata": {},
   "outputs": [
    {
     "data": {
      "text/plain": [
       "array(['D', 'M', 'A', 'G', '', 'GK', 'LSM', 'FO', 'MF', 'MFO', 'O', 'DM',\n",
       "       'S', 'LS', '6', 'AM', 'F', 'L', 'FOS', 'NA', 'N', 'AS', 'MA', 'DL',\n",
       "       'DK', 'FS', 'CD', 'ATT', 'MID', 'DEF', 'FOM', 'FOGO', 'SSDM', None,\n",
       "       'FA', 'MD', 'RW', 'DB', 'C', 'GOAL', 'LM', 'SR', 'AMF', 'SS', 'F0',\n",
       "       '45', 'LSMF', 'MFA', 'AT', 'B', 'ATK', 'DLSM', 'DLMS', 'LPM', '9',\n",
       "       '3', 'DLS', '0', 'LMS', '16', 'FW', 'AA', '35', '4', 'LSD', 'AD',\n",
       "       'FOR', 'LDM', 'LP', 'AQ', 'DMF', '8', 'GF', 'LSMD', 'MG', 'FM',\n",
       "       'MIC', 'W', '27', 'PCS', 'GT', '1', 'DDM', 'SLM', 'D08', '5', 'MB',\n",
       "       '2', 'ATMD', 'GO', 'MIDF', 'Q', 'MK', 'CK', 'DG', 'K', 'IH', 'DST',\n",
       "       'DFO', 'MIG', 'ATM', 'NF', 'SSD', 'ID', '31', 'AFO', 'SSM', 'MDM',\n",
       "       'FK', 'FSO'], dtype=object)"
      ]
     },
     "execution_count": 6,
     "metadata": {},
     "output_type": "execute_result"
    }
   ],
   "source": [
    "boxscore_df['position'].unique()"
   ]
  },
  {
   "cell_type": "code",
   "execution_count": 12,
   "metadata": {},
   "outputs": [
    {
     "data": {
      "text/plain": [
       "position\n",
       "        931109\n",
       "0            1\n",
       "1            1\n",
       "16           1\n",
       "2            1\n",
       "         ...  \n",
       "SS           2\n",
       "SSD          2\n",
       "SSDM        19\n",
       "SSM          2\n",
       "W            2\n",
       "Name: name, Length: 109, dtype: int64"
      ]
     },
     "execution_count": 12,
     "metadata": {},
     "output_type": "execute_result"
    }
   ],
   "source": [
    "count_df = boxscore_df.groupby('position')['name'].count()\n",
    "count_df"
   ]
  },
  {
   "cell_type": "code",
   "execution_count": 13,
   "metadata": {},
   "outputs": [],
   "source": [
    "count_df.to_csv('count_positions_df')"
   ]
  },
  {
   "cell_type": "markdown",
   "metadata": {},
   "source": [
    "That's interesting. There are letters and letter groups that make sense, but then there are numbers. Let's take a look at 27"
   ]
  },
  {
   "cell_type": "code",
   "execution_count": 8,
   "metadata": {},
   "outputs": [
    {
     "data": {
      "text/plain": [
       "(array([793184], dtype=int64),)"
      ]
     },
     "execution_count": 8,
     "metadata": {},
     "output_type": "execute_result"
    }
   ],
   "source": [
    "twensev = np.where(boxscore_df['position'] == '27')\n",
    "twensev"
   ]
  },
  {
   "cell_type": "code",
   "execution_count": 9,
   "metadata": {},
   "outputs": [
    {
     "data": {
      "text/plain": [
       "id_x                                      3318\n",
       "name                          Westminster (UT)\n",
       "id_y                                   1222376\n",
       "game_id                                  26505\n",
       "team_id                                   3318\n",
       "player_id                             124438.0\n",
       "position                                    27\n",
       "player_name                        Jacob Parks\n",
       "goals                                        0\n",
       "assists                                      0\n",
       "points                                       0\n",
       "shots                                        2\n",
       "shots_on_goal                                0\n",
       "man_up_goals                                 0\n",
       "man_down_goals                               0\n",
       "ground_balls                                 1\n",
       "turnovers                                    1\n",
       "caused_turnovers                             0\n",
       "faceoffs_won                                 0\n",
       "faceoffs_taken                               0\n",
       "penalties                                    0\n",
       "penalty_time                                 0\n",
       "goalie_seconds                               0\n",
       "goals_allowed                                0\n",
       "goalie_saves                                 0\n",
       "created_at          2023-11-13 20:37:34.997732\n",
       "updated_at          2023-11-13 20:37:34.997732\n",
       "Name: 793184, dtype: object"
      ]
     },
     "execution_count": 9,
     "metadata": {},
     "output_type": "execute_result"
    }
   ],
   "source": [
    "boxscore_df.iloc[793184]"
   ]
  },
  {
   "cell_type": "markdown",
   "metadata": {},
   "source": [
    "Since there is no position numbered 27 and some of the others don't make sense either, it's time to remove all of the positions that don't make sense and make them blank"
   ]
  },
  {
   "cell_type": "code",
   "execution_count": 10,
   "metadata": {},
   "outputs": [
    {
     "name": "stderr",
     "output_type": "stream",
     "text": [
      "C:\\Users\\tpton\\AppData\\Local\\Temp\\ipykernel_14572\\3530134222.py:1: FutureWarning: A value is trying to be set on a copy of a DataFrame or Series through chained assignment using an inplace method.\n",
      "The behavior will change in pandas 3.0. This inplace method will never work because the intermediate object on which we are setting values always behaves as a copy.\n",
      "\n",
      "For example, when doing 'df[col].method(value, inplace=True)', try using 'df.method({col: value}, inplace=True)' or df[col] = df[col].method(value) instead, to perform the operation inplace on the original object.\n",
      "\n",
      "\n",
      "  boxscore_df['position'].replace({\"''\":\"\", \"O\":\"\", \"S\":\"\", \"6\":\"\", \"AM\":\"\", \"F\":\"\", \"L\":\"\", \"NA\":\"\", \"N\":\"\", \"AS\":\"\",\n"
     ]
    }
   ],
   "source": [
    "boxscore_df['position'].replace({\"''\":\"\", \"O\":\"\", \"S\":\"\", \"6\":\"\", \"AM\":\"\", \"F\":\"\", \"L\":\"\", \"NA\":\"\", \"N\":\"\", \"AS\":\"\", \n",
    "                                 \"MA\":\"\", \"FS\":\"\", \"CD\":\"\", None:\"\", \"C\":\"\", \"SR\":\"\", \"F0\":\"\", \"45\":\"\", \"B\":\"\", \n",
    "                                 \"9\":\"\", \"3\":\"\", \"0\":\"\", \"16\":\"\", \"35\":\"\", \"4\":\"\", \"AD\":\"\", \"FOR\":\"\", \"8\":\"\", \"GF\":\"\", \n",
    "                                 \"MG\":\"\", \"MIC\":\"\", \"27\":\"\", \"PCS\":\"\", \"1\":\"\", \"D08\":\"\", \"5\":\"\", \"2\":\"\", \"Q\":\"\", \"MK\":\"\", \n",
    "                                 \"CK\":\"\", \"DG\":\"\", \"K\":\"\", \"IH\":\"\", \"DST\":\"\", \"DFO\":\"\", \"MIG\":\"\", \"NF\":\"\", \"ID\":\"\", \n",
    "                                 \"31\":\"\", \"FK\":\"\", \"FSO\":\"\"}, inplace=True\n",
    ")"
   ]
  },
  {
   "cell_type": "markdown",
   "metadata": {},
   "source": [
    "This classifier is intended to predict the four main positions: Attacker (A), Midfielder (M), Defender (D), and Goalie (G). To note, there are subsets of each. For example, Attackers can be called 'X' or wings. Let's clean up the other positions by replacing what the scorer entered with A, M, D, or G"
   ]
  },
  {
   "cell_type": "code",
   "execution_count": 11,
   "metadata": {},
   "outputs": [],
   "source": [
    "boxscore_df['position'].replace({ 'ATT': 'A', 'RW': 'A', 'AT': 'A', 'ATK': 'A', 'FW': 'A', 'AA': 'A', 'AQ': 'A', 'W': 'A', \n",
    "                                   'ATMD': 'A', 'ATM': 'A', 'AFO': 'A', 'DL':'D', 'DK':'D', 'DEF':'D', 'DB':'D', 'DLS':'D', \n",
    "                                   'LSD':'D', 'LP':'D', 'DDM':'D', 'GK': 'G', 'GOAL': 'G', 'GT': 'G', 'LSM': 'M', 'FO': 'M', 'MF': 'M', \n",
    "                                   'MFO': 'M', 'DM': 'M', 'LS': 'M', 'FOS': 'M', 'MID': 'M', 'FOM': 'M', 'FOGO': 'M', 'SSDM': 'M', \n",
    "                                   'FA': 'M', 'MD': 'M', 'LM': 'M', 'AMF': 'M', 'SS': 'M', 'LSMF': 'M', 'MFA': 'M', 'DLSM': 'M', \n",
    "                                   'DLMS': 'M', 'LPM': 'M', 'LMS': 'M', 'LDM': 'M', 'DMF': 'M', 'LSMD': 'M', 'FM': 'M', 'SLM': 'M', \n",
    "                                   'MB': 'M', 'GO': 'M', 'MIDF': 'M', 'SSD': 'M', 'SSM': 'M', 'MDM': 'M'}, inplace=True\n",
    "                                   )\n"
   ]
  },
  {
   "cell_type": "markdown",
   "metadata": {},
   "source": [
    "Confirming that the only positions are the four main categories and blanks."
   ]
  },
  {
   "cell_type": "code",
   "execution_count": 12,
   "metadata": {},
   "outputs": [
    {
     "data": {
      "text/plain": [
       "array(['D', 'M', 'A', 'G', ''], dtype=object)"
      ]
     },
     "execution_count": 12,
     "metadata": {},
     "output_type": "execute_result"
    }
   ],
   "source": [
    "pos = boxscore_df['position'].unique()\n",
    "pos"
   ]
  },
  {
   "cell_type": "markdown",
   "metadata": {},
   "source": [
    "Save the boxscore dataframe to csv"
   ]
  },
  {
   "cell_type": "code",
   "execution_count": 13,
   "metadata": {},
   "outputs": [],
   "source": [
    "boxscore_df.to_csv('boxscore_df')"
   ]
  },
  {
   "cell_type": "markdown",
   "metadata": {},
   "source": [
    "Load to the csv to confirm it's the same"
   ]
  },
  {
   "cell_type": "code",
   "execution_count": 14,
   "metadata": {},
   "outputs": [
    {
     "data": {
      "text/html": [
       "<div>\n",
       "<style scoped>\n",
       "    .dataframe tbody tr th:only-of-type {\n",
       "        vertical-align: middle;\n",
       "    }\n",
       "\n",
       "    .dataframe tbody tr th {\n",
       "        vertical-align: top;\n",
       "    }\n",
       "\n",
       "    .dataframe thead th {\n",
       "        text-align: right;\n",
       "    }\n",
       "</style>\n",
       "<table border=\"1\" class=\"dataframe\">\n",
       "  <thead>\n",
       "    <tr style=\"text-align: right;\">\n",
       "      <th></th>\n",
       "      <th>Unnamed: 0</th>\n",
       "      <th>id_x</th>\n",
       "      <th>name</th>\n",
       "      <th>id_y</th>\n",
       "      <th>game_id</th>\n",
       "      <th>team_id</th>\n",
       "      <th>player_id</th>\n",
       "      <th>position</th>\n",
       "      <th>player_name</th>\n",
       "      <th>goals</th>\n",
       "      <th>...</th>\n",
       "      <th>caused_turnovers</th>\n",
       "      <th>faceoffs_won</th>\n",
       "      <th>faceoffs_taken</th>\n",
       "      <th>penalties</th>\n",
       "      <th>penalty_time</th>\n",
       "      <th>goalie_seconds</th>\n",
       "      <th>goals_allowed</th>\n",
       "      <th>goalie_saves</th>\n",
       "      <th>created_at</th>\n",
       "      <th>updated_at</th>\n",
       "    </tr>\n",
       "  </thead>\n",
       "  <tbody>\n",
       "    <tr>\n",
       "      <th>0</th>\n",
       "      <td>0</td>\n",
       "      <td>2</td>\n",
       "      <td>Binghamton</td>\n",
       "      <td>4712</td>\n",
       "      <td>1</td>\n",
       "      <td>2</td>\n",
       "      <td>41.0</td>\n",
       "      <td>D</td>\n",
       "      <td>Chris Bechle</td>\n",
       "      <td>0</td>\n",
       "      <td>...</td>\n",
       "      <td>0</td>\n",
       "      <td>0</td>\n",
       "      <td>0</td>\n",
       "      <td>1</td>\n",
       "      <td>30</td>\n",
       "      <td>0</td>\n",
       "      <td>0</td>\n",
       "      <td>0</td>\n",
       "      <td>2023-10-24 16:37:17.319077</td>\n",
       "      <td>2023-10-24 16:37:17.319077</td>\n",
       "    </tr>\n",
       "    <tr>\n",
       "      <th>1</th>\n",
       "      <td>1</td>\n",
       "      <td>2</td>\n",
       "      <td>Binghamton</td>\n",
       "      <td>4713</td>\n",
       "      <td>1</td>\n",
       "      <td>2</td>\n",
       "      <td>48.0</td>\n",
       "      <td>D</td>\n",
       "      <td>George Diegnan</td>\n",
       "      <td>0</td>\n",
       "      <td>...</td>\n",
       "      <td>0</td>\n",
       "      <td>1</td>\n",
       "      <td>2</td>\n",
       "      <td>0</td>\n",
       "      <td>0</td>\n",
       "      <td>0</td>\n",
       "      <td>0</td>\n",
       "      <td>0</td>\n",
       "      <td>2023-10-24 16:37:17.319077</td>\n",
       "      <td>2023-10-24 16:37:17.319077</td>\n",
       "    </tr>\n",
       "    <tr>\n",
       "      <th>2</th>\n",
       "      <td>2</td>\n",
       "      <td>2</td>\n",
       "      <td>Binghamton</td>\n",
       "      <td>4714</td>\n",
       "      <td>1</td>\n",
       "      <td>2</td>\n",
       "      <td>51.0</td>\n",
       "      <td>D</td>\n",
       "      <td>Sean Finnigan</td>\n",
       "      <td>0</td>\n",
       "      <td>...</td>\n",
       "      <td>0</td>\n",
       "      <td>0</td>\n",
       "      <td>0</td>\n",
       "      <td>0</td>\n",
       "      <td>0</td>\n",
       "      <td>0</td>\n",
       "      <td>0</td>\n",
       "      <td>0</td>\n",
       "      <td>2023-10-24 16:37:17.319077</td>\n",
       "      <td>2023-10-24 16:37:17.319077</td>\n",
       "    </tr>\n",
       "    <tr>\n",
       "      <th>3</th>\n",
       "      <td>3</td>\n",
       "      <td>2</td>\n",
       "      <td>Binghamton</td>\n",
       "      <td>4715</td>\n",
       "      <td>1</td>\n",
       "      <td>2</td>\n",
       "      <td>57.0</td>\n",
       "      <td>M</td>\n",
       "      <td>Matt Kaser</td>\n",
       "      <td>0</td>\n",
       "      <td>...</td>\n",
       "      <td>0</td>\n",
       "      <td>0</td>\n",
       "      <td>0</td>\n",
       "      <td>0</td>\n",
       "      <td>0</td>\n",
       "      <td>0</td>\n",
       "      <td>0</td>\n",
       "      <td>0</td>\n",
       "      <td>2023-10-24 16:37:17.319077</td>\n",
       "      <td>2023-10-24 16:37:17.319077</td>\n",
       "    </tr>\n",
       "    <tr>\n",
       "      <th>4</th>\n",
       "      <td>4</td>\n",
       "      <td>2</td>\n",
       "      <td>Binghamton</td>\n",
       "      <td>4716</td>\n",
       "      <td>1</td>\n",
       "      <td>2</td>\n",
       "      <td>63.0</td>\n",
       "      <td>M</td>\n",
       "      <td>Anthony Lombardo</td>\n",
       "      <td>0</td>\n",
       "      <td>...</td>\n",
       "      <td>0</td>\n",
       "      <td>0</td>\n",
       "      <td>0</td>\n",
       "      <td>0</td>\n",
       "      <td>0</td>\n",
       "      <td>0</td>\n",
       "      <td>0</td>\n",
       "      <td>0</td>\n",
       "      <td>2023-10-24 16:37:17.319077</td>\n",
       "      <td>2023-10-24 16:37:17.319077</td>\n",
       "    </tr>\n",
       "  </tbody>\n",
       "</table>\n",
       "<p>5 rows × 28 columns</p>\n",
       "</div>"
      ],
      "text/plain": [
       "   Unnamed: 0  id_x        name  id_y  game_id  team_id  player_id position  \\\n",
       "0           0     2  Binghamton  4712        1        2       41.0        D   \n",
       "1           1     2  Binghamton  4713        1        2       48.0        D   \n",
       "2           2     2  Binghamton  4714        1        2       51.0        D   \n",
       "3           3     2  Binghamton  4715        1        2       57.0        M   \n",
       "4           4     2  Binghamton  4716        1        2       63.0        M   \n",
       "\n",
       "        player_name  goals  ...  caused_turnovers  faceoffs_won  \\\n",
       "0      Chris Bechle      0  ...                 0             0   \n",
       "1    George Diegnan      0  ...                 0             1   \n",
       "2     Sean Finnigan      0  ...                 0             0   \n",
       "3        Matt Kaser      0  ...                 0             0   \n",
       "4  Anthony Lombardo      0  ...                 0             0   \n",
       "\n",
       "   faceoffs_taken  penalties  penalty_time  goalie_seconds  goals_allowed  \\\n",
       "0               0          1            30               0              0   \n",
       "1               2          0             0               0              0   \n",
       "2               0          0             0               0              0   \n",
       "3               0          0             0               0              0   \n",
       "4               0          0             0               0              0   \n",
       "\n",
       "   goalie_saves                  created_at                  updated_at  \n",
       "0             0  2023-10-24 16:37:17.319077  2023-10-24 16:37:17.319077  \n",
       "1             0  2023-10-24 16:37:17.319077  2023-10-24 16:37:17.319077  \n",
       "2             0  2023-10-24 16:37:17.319077  2023-10-24 16:37:17.319077  \n",
       "3             0  2023-10-24 16:37:17.319077  2023-10-24 16:37:17.319077  \n",
       "4             0  2023-10-24 16:37:17.319077  2023-10-24 16:37:17.319077  \n",
       "\n",
       "[5 rows x 28 columns]"
      ]
     },
     "execution_count": 14,
     "metadata": {},
     "output_type": "execute_result"
    }
   ],
   "source": [
    "df = pd.read_csv('boxscore_df')\n",
    "df.head()"
   ]
  },
  {
   "cell_type": "markdown",
   "metadata": {},
   "source": [
    "All looks good!!"
   ]
  }
 ],
 "metadata": {
  "kernelspec": {
   "display_name": "Python 3",
   "language": "python",
   "name": "python3"
  },
  "language_info": {
   "codemirror_mode": {
    "name": "ipython",
    "version": 3
   },
   "file_extension": ".py",
   "mimetype": "text/x-python",
   "name": "python",
   "nbconvert_exporter": "python",
   "pygments_lexer": "ipython3",
   "version": "3.12.1"
  }
 },
 "nbformat": 4,
 "nbformat_minor": 2
}
