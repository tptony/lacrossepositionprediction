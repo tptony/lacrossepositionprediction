{
 "cells": [
  {
   "cell_type": "code",
   "execution_count": 1,
   "metadata": {},
   "outputs": [],
   "source": [
    "import pandas as pd\n",
    "import numpy as np\n",
    "from sklearn.neighbors import KNeighborsClassifier\n",
    "from sklearn.naive_bayes import GaussianNB\n",
    "from sklearn.model_selection import train_test_split, cross_val_score"
   ]
  },
  {
   "cell_type": "markdown",
   "metadata": {},
   "source": [
    "Load boxscore_df"
   ]
  },
  {
   "cell_type": "code",
   "execution_count": 2,
   "metadata": {},
   "outputs": [
    {
     "data": {
      "text/html": [
       "<div>\n",
       "<style scoped>\n",
       "    .dataframe tbody tr th:only-of-type {\n",
       "        vertical-align: middle;\n",
       "    }\n",
       "\n",
       "    .dataframe tbody tr th {\n",
       "        vertical-align: top;\n",
       "    }\n",
       "\n",
       "    .dataframe thead th {\n",
       "        text-align: right;\n",
       "    }\n",
       "</style>\n",
       "<table border=\"1\" class=\"dataframe\">\n",
       "  <thead>\n",
       "    <tr style=\"text-align: right;\">\n",
       "      <th></th>\n",
       "      <th>Unnamed: 0</th>\n",
       "      <th>id_x</th>\n",
       "      <th>name</th>\n",
       "      <th>id_y</th>\n",
       "      <th>game_id</th>\n",
       "      <th>team_id</th>\n",
       "      <th>player_id</th>\n",
       "      <th>position</th>\n",
       "      <th>player_name</th>\n",
       "      <th>goals</th>\n",
       "      <th>...</th>\n",
       "      <th>caused_turnovers</th>\n",
       "      <th>faceoffs_won</th>\n",
       "      <th>faceoffs_taken</th>\n",
       "      <th>penalties</th>\n",
       "      <th>penalty_time</th>\n",
       "      <th>goalie_seconds</th>\n",
       "      <th>goals_allowed</th>\n",
       "      <th>goalie_saves</th>\n",
       "      <th>created_at</th>\n",
       "      <th>updated_at</th>\n",
       "    </tr>\n",
       "  </thead>\n",
       "  <tbody>\n",
       "    <tr>\n",
       "      <th>0</th>\n",
       "      <td>0</td>\n",
       "      <td>2</td>\n",
       "      <td>Binghamton</td>\n",
       "      <td>4712</td>\n",
       "      <td>1</td>\n",
       "      <td>2</td>\n",
       "      <td>41.0</td>\n",
       "      <td>D</td>\n",
       "      <td>Chris Bechle</td>\n",
       "      <td>0</td>\n",
       "      <td>...</td>\n",
       "      <td>0</td>\n",
       "      <td>0</td>\n",
       "      <td>0</td>\n",
       "      <td>1</td>\n",
       "      <td>30</td>\n",
       "      <td>0</td>\n",
       "      <td>0</td>\n",
       "      <td>0</td>\n",
       "      <td>2023-10-24 16:37:17.319077</td>\n",
       "      <td>2023-10-24 16:37:17.319077</td>\n",
       "    </tr>\n",
       "    <tr>\n",
       "      <th>1</th>\n",
       "      <td>1</td>\n",
       "      <td>2</td>\n",
       "      <td>Binghamton</td>\n",
       "      <td>4713</td>\n",
       "      <td>1</td>\n",
       "      <td>2</td>\n",
       "      <td>48.0</td>\n",
       "      <td>D</td>\n",
       "      <td>George Diegnan</td>\n",
       "      <td>0</td>\n",
       "      <td>...</td>\n",
       "      <td>0</td>\n",
       "      <td>1</td>\n",
       "      <td>2</td>\n",
       "      <td>0</td>\n",
       "      <td>0</td>\n",
       "      <td>0</td>\n",
       "      <td>0</td>\n",
       "      <td>0</td>\n",
       "      <td>2023-10-24 16:37:17.319077</td>\n",
       "      <td>2023-10-24 16:37:17.319077</td>\n",
       "    </tr>\n",
       "    <tr>\n",
       "      <th>2</th>\n",
       "      <td>2</td>\n",
       "      <td>2</td>\n",
       "      <td>Binghamton</td>\n",
       "      <td>4714</td>\n",
       "      <td>1</td>\n",
       "      <td>2</td>\n",
       "      <td>51.0</td>\n",
       "      <td>D</td>\n",
       "      <td>Sean Finnigan</td>\n",
       "      <td>0</td>\n",
       "      <td>...</td>\n",
       "      <td>0</td>\n",
       "      <td>0</td>\n",
       "      <td>0</td>\n",
       "      <td>0</td>\n",
       "      <td>0</td>\n",
       "      <td>0</td>\n",
       "      <td>0</td>\n",
       "      <td>0</td>\n",
       "      <td>2023-10-24 16:37:17.319077</td>\n",
       "      <td>2023-10-24 16:37:17.319077</td>\n",
       "    </tr>\n",
       "    <tr>\n",
       "      <th>3</th>\n",
       "      <td>3</td>\n",
       "      <td>2</td>\n",
       "      <td>Binghamton</td>\n",
       "      <td>4715</td>\n",
       "      <td>1</td>\n",
       "      <td>2</td>\n",
       "      <td>57.0</td>\n",
       "      <td>M</td>\n",
       "      <td>Matt Kaser</td>\n",
       "      <td>0</td>\n",
       "      <td>...</td>\n",
       "      <td>0</td>\n",
       "      <td>0</td>\n",
       "      <td>0</td>\n",
       "      <td>0</td>\n",
       "      <td>0</td>\n",
       "      <td>0</td>\n",
       "      <td>0</td>\n",
       "      <td>0</td>\n",
       "      <td>2023-10-24 16:37:17.319077</td>\n",
       "      <td>2023-10-24 16:37:17.319077</td>\n",
       "    </tr>\n",
       "    <tr>\n",
       "      <th>4</th>\n",
       "      <td>4</td>\n",
       "      <td>2</td>\n",
       "      <td>Binghamton</td>\n",
       "      <td>4716</td>\n",
       "      <td>1</td>\n",
       "      <td>2</td>\n",
       "      <td>63.0</td>\n",
       "      <td>M</td>\n",
       "      <td>Anthony Lombardo</td>\n",
       "      <td>0</td>\n",
       "      <td>...</td>\n",
       "      <td>0</td>\n",
       "      <td>0</td>\n",
       "      <td>0</td>\n",
       "      <td>0</td>\n",
       "      <td>0</td>\n",
       "      <td>0</td>\n",
       "      <td>0</td>\n",
       "      <td>0</td>\n",
       "      <td>2023-10-24 16:37:17.319077</td>\n",
       "      <td>2023-10-24 16:37:17.319077</td>\n",
       "    </tr>\n",
       "  </tbody>\n",
       "</table>\n",
       "<p>5 rows × 28 columns</p>\n",
       "</div>"
      ],
      "text/plain": [
       "   Unnamed: 0  id_x        name  id_y  game_id  team_id  player_id position  \\\n",
       "0           0     2  Binghamton  4712        1        2       41.0        D   \n",
       "1           1     2  Binghamton  4713        1        2       48.0        D   \n",
       "2           2     2  Binghamton  4714        1        2       51.0        D   \n",
       "3           3     2  Binghamton  4715        1        2       57.0        M   \n",
       "4           4     2  Binghamton  4716        1        2       63.0        M   \n",
       "\n",
       "        player_name  goals  ...  caused_turnovers  faceoffs_won  \\\n",
       "0      Chris Bechle      0  ...                 0             0   \n",
       "1    George Diegnan      0  ...                 0             1   \n",
       "2     Sean Finnigan      0  ...                 0             0   \n",
       "3        Matt Kaser      0  ...                 0             0   \n",
       "4  Anthony Lombardo      0  ...                 0             0   \n",
       "\n",
       "   faceoffs_taken  penalties  penalty_time  goalie_seconds  goals_allowed  \\\n",
       "0               0          1            30               0              0   \n",
       "1               2          0             0               0              0   \n",
       "2               0          0             0               0              0   \n",
       "3               0          0             0               0              0   \n",
       "4               0          0             0               0              0   \n",
       "\n",
       "   goalie_saves                  created_at                  updated_at  \n",
       "0             0  2023-10-24 16:37:17.319077  2023-10-24 16:37:17.319077  \n",
       "1             0  2023-10-24 16:37:17.319077  2023-10-24 16:37:17.319077  \n",
       "2             0  2023-10-24 16:37:17.319077  2023-10-24 16:37:17.319077  \n",
       "3             0  2023-10-24 16:37:17.319077  2023-10-24 16:37:17.319077  \n",
       "4             0  2023-10-24 16:37:17.319077  2023-10-24 16:37:17.319077  \n",
       "\n",
       "[5 rows x 28 columns]"
      ]
     },
     "execution_count": 2,
     "metadata": {},
     "output_type": "execute_result"
    }
   ],
   "source": [
    "boxscore_df = pd.read_csv('boxscore_df')\n",
    "boxscore_df.head()"
   ]
  },
  {
   "cell_type": "code",
   "execution_count": 3,
   "metadata": {},
   "outputs": [
    {
     "data": {
      "text/plain": [
       "(1180290, 28)"
      ]
     },
     "execution_count": 3,
     "metadata": {},
     "output_type": "execute_result"
    }
   ],
   "source": [
    "boxscore_df.shape"
   ]
  },
  {
   "cell_type": "markdown",
   "metadata": {},
   "source": [
    "Let's look at total goals by position"
   ]
  },
  {
   "cell_type": "code",
   "execution_count": 4,
   "metadata": {},
   "outputs": [
    {
     "data": {
      "text/plain": [
       "position\n",
       "A    116019\n",
       "D      2530\n",
       "G       127\n",
       "M     55449\n",
       "Name: goals, dtype: int64"
      ]
     },
     "execution_count": 4,
     "metadata": {},
     "output_type": "execute_result"
    }
   ],
   "source": [
    "boxscore_df.groupby('position')['goals'].sum()"
   ]
  },
  {
   "cell_type": "markdown",
   "metadata": {},
   "source": [
    "This makes sense. Most of the goals are scored by Attackers and Midfielders with a handful by Defenders and a couple by Goalies. I wonder what the counts by position are."
   ]
  },
  {
   "cell_type": "code",
   "execution_count": 5,
   "metadata": {},
   "outputs": [
    {
     "data": {
      "text/plain": [
       "position\n",
       "A    69311\n",
       "D    73686\n",
       "G    32902\n",
       "M    72669\n",
       "Name: player_id, dtype: int64"
      ]
     },
     "execution_count": 5,
     "metadata": {},
     "output_type": "execute_result"
    }
   ],
   "source": [
    "boxscore_df.groupby('position')['player_id'].count()"
   ]
  },
  {
   "cell_type": "markdown",
   "metadata": {},
   "source": [
    "This also makes sense. Each team is typically comprised of three A's, M's, and D's with one G. \n",
    "\n",
    "Create a new df for the classifier to include only the stats that are being taken into consideration. Then remove all blank entries."
   ]
  },
  {
   "cell_type": "code",
   "execution_count": 3,
   "metadata": {},
   "outputs": [],
   "source": [
    "df = boxscore_df[['position',\n",
    "       'goals', 'assists', 'points', 'shots', 'shots_on_goal',\n",
    "       'ground_balls', 'turnovers',\n",
    "       'caused_turnovers', 'faceoffs_won', 'faceoffs_taken', 'penalties',\n",
    "       'penalty_time', 'goalie_seconds', 'goals_allowed', 'goalie_saves']]\n",
    "\n",
    "df_noblanks = df[df['position'] != '']\n",
    "df_noblanks = df_noblanks.dropna()"
   ]
  },
  {
   "cell_type": "markdown",
   "metadata": {},
   "source": [
    "Compare the shapes of the overall df to the one without blanks."
   ]
  },
  {
   "cell_type": "code",
   "execution_count": 7,
   "metadata": {},
   "outputs": [
    {
     "data": {
      "text/plain": [
       "((1180290, 16), (248616, 16))"
      ]
     },
     "execution_count": 7,
     "metadata": {},
     "output_type": "execute_result"
    }
   ],
   "source": [
    "df.shape, df_noblanks.shape"
   ]
  },
  {
   "cell_type": "markdown",
   "metadata": {},
   "source": [
    "~21% of the data points are not blank. Although, that's a low percentage, it's based on 1.1 millions rows of data. There are plenty of data points to train and test on."
   ]
  },
  {
   "cell_type": "code",
   "execution_count": 4,
   "metadata": {},
   "outputs": [],
   "source": [
    "X = df_noblanks.drop('position', axis=1).values\n",
    "y = df_noblanks['position'].values"
   ]
  },
  {
   "cell_type": "markdown",
   "metadata": {},
   "source": [
    "Create training and testing sets with default parameters"
   ]
  },
  {
   "cell_type": "code",
   "execution_count": 5,
   "metadata": {},
   "outputs": [],
   "source": [
    "X_train, X_test, y_train, y_test = train_test_split(X, y, random_state=42)"
   ]
  },
  {
   "cell_type": "markdown",
   "metadata": {},
   "source": [
    "I wonder if different train/test sizes will make a difference."
   ]
  },
  {
   "cell_type": "code",
   "execution_count": 6,
   "metadata": {},
   "outputs": [],
   "source": [
    "gauclf = GaussianNB().fit(X_train, y_train)\n",
    "#print('Gaussian training accuracy: {:.4f}'.format(gauclf.score(X_train,y_train)))\n",
    "#print('Gaussian test accuracy: {:.4f}'.format(gauclf.score(X_test, y_test)))"
   ]
  },
  {
   "cell_type": "code",
   "execution_count": 7,
   "metadata": {},
   "outputs": [
    {
     "name": "stdout",
     "output_type": "stream",
     "text": [
      "5 cross val score: 0.7165 accuracy with a standard deviation of 0.0162\n"
     ]
    }
   ],
   "source": [
    "cvs = cross_val_score(gauclf, X, y, cv=5)\n",
    "print(\"5 cross val score: %0.4f accuracy with a standard deviation of %0.4f\" % (cvs.mean(), cvs.std()))"
   ]
  },
  {
   "cell_type": "code",
   "execution_count": 10,
   "metadata": {},
   "outputs": [
    {
     "name": "stdout",
     "output_type": "stream",
     "text": [
      "0.6\n",
      "Gaussian training accuracy: 0.7159\n",
      "Gaussian test accuracy: 0.7154\n",
      "0.65\n",
      "Gaussian training accuracy: 0.7156\n",
      "Gaussian test accuracy: 0.7159\n",
      "0.7\n",
      "Gaussian training accuracy: 0.7165\n",
      "Gaussian test accuracy: 0.7147\n",
      "0.75\n",
      "Gaussian training accuracy: 0.7161\n",
      "Gaussian test accuracy: 0.7158\n",
      "0.8\n",
      "Gaussian training accuracy: 0.7159\n",
      "Gaussian test accuracy: 0.7169\n",
      "0.85\n",
      "Gaussian training accuracy: 0.7161\n",
      "Gaussian test accuracy: 0.7164\n",
      "0.9\n",
      "Gaussian training accuracy: 0.7164\n",
      "Gaussian test accuracy: 0.7153\n",
      "0.95\n",
      "Gaussian training accuracy: 0.7166\n",
      "Gaussian test accuracy: 0.7103\n"
     ]
    }
   ],
   "source": [
    "for r in range(60, 96, 5):\n",
    "    print(r/100)\n",
    "    X_train, X_test, y_train, y_test = train_test_split(X, y, train_size=r/100, random_state=42)\n",
    "    gauclf = GaussianNB().fit(X_train, y_train)\n",
    "    print('Gaussian training accuracy: {:.4f}'.format(gauclf.score(X_train,y_train)))\n",
    "    print('Gaussian test accuracy: {:.4f}'.format(gauclf.score(X_test, y_test)))\n",
    "    "
   ]
  },
  {
   "cell_type": "markdown",
   "metadata": {},
   "source": [
    "Going to remove the same features as in the best scoring decision tree model\n",
    "\n",
    "Remove goals, assists, penalty time, shots on goal, goalie saves, goals allowed, faceoffs won"
   ]
  },
  {
   "cell_type": "code",
   "execution_count": 11,
   "metadata": {},
   "outputs": [],
   "source": [
    "#remove goals, assists, penalty time, shots on goal, goalie saves, goals allowed, faceoffs won\n",
    "X2 = df_noblanks.drop(['position','goals','assists','faceoffs_won','penalty_time','shots_on_goal','goalie_saves','goals_allowed'], axis=1).values\n",
    "y2 = df_noblanks['position'].values"
   ]
  },
  {
   "cell_type": "code",
   "execution_count": 12,
   "metadata": {},
   "outputs": [
    {
     "name": "stdout",
     "output_type": "stream",
     "text": [
      "0.6\n",
      "Gaussian training accuracy: 0.7201\n",
      "Gaussian test accuracy: 0.7200\n",
      "0.65\n",
      "Gaussian training accuracy: 0.7198\n",
      "Gaussian test accuracy: 0.7205\n",
      "0.7\n",
      "Gaussian training accuracy: 0.7199\n",
      "Gaussian test accuracy: 0.7185\n",
      "0.75\n",
      "Gaussian training accuracy: 0.7192\n",
      "Gaussian test accuracy: 0.7188\n",
      "0.8\n",
      "Gaussian training accuracy: 0.7190\n",
      "Gaussian test accuracy: 0.7198\n",
      "0.85\n",
      "Gaussian training accuracy: 0.7195\n",
      "Gaussian test accuracy: 0.7190\n",
      "0.9\n",
      "Gaussian training accuracy: 0.7195\n",
      "Gaussian test accuracy: 0.7185\n",
      "0.95\n",
      "Gaussian training accuracy: 0.7197\n",
      "Gaussian test accuracy: 0.7129\n"
     ]
    }
   ],
   "source": [
    "for r in range(60, 96, 5):\n",
    "    print(r/100)\n",
    "    X_train2, X_test2, y_train2, y_test2 = train_test_split(X2, y2, train_size=r/100, random_state=42)\n",
    "    gauclf2 = GaussianNB().fit(X_train2, y_train2)\n",
    "    print('Gaussian training accuracy: {:.4f}'.format(gauclf2.score(X_train2,y_train2)))\n",
    "    print('Gaussian test accuracy: {:.4f}'.format(gauclf2.score(X_test2, y_test2)))"
   ]
  }
 ],
 "metadata": {
  "kernelspec": {
   "display_name": "Python 3",
   "language": "python",
   "name": "python3"
  },
  "language_info": {
   "codemirror_mode": {
    "name": "ipython",
    "version": 3
   },
   "file_extension": ".py",
   "mimetype": "text/x-python",
   "name": "python",
   "nbconvert_exporter": "python",
   "pygments_lexer": "ipython3",
   "version": "3.12.1"
  }
 },
 "nbformat": 4,
 "nbformat_minor": 2
}
