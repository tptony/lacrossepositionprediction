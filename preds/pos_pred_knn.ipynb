{
 "cells": [
  {
   "cell_type": "code",
   "execution_count": 3,
   "metadata": {},
   "outputs": [],
   "source": [
    "import pandas as pd\n",
    "import numpy as np\n",
    "import matplotlib.pyplot as plt\n",
    "from sklearn.neighbors import KNeighborsClassifier\n",
    "from sklearn.model_selection import train_test_split, cross_val_score\n",
    "from sklearn.metrics import recall_score, precision_score, confusion_matrix, precision_recall_curve, roc_curve, f1_score\n",
    "from sklearn.inspection import permutation_importance"
   ]
  },
  {
   "cell_type": "markdown",
   "metadata": {},
   "source": [
    "Load boxscore_df"
   ]
  },
  {
   "cell_type": "code",
   "execution_count": 4,
   "metadata": {},
   "outputs": [
    {
     "data": {
      "text/html": [
       "<div>\n",
       "<style scoped>\n",
       "    .dataframe tbody tr th:only-of-type {\n",
       "        vertical-align: middle;\n",
       "    }\n",
       "\n",
       "    .dataframe tbody tr th {\n",
       "        vertical-align: top;\n",
       "    }\n",
       "\n",
       "    .dataframe thead th {\n",
       "        text-align: right;\n",
       "    }\n",
       "</style>\n",
       "<table border=\"1\" class=\"dataframe\">\n",
       "  <thead>\n",
       "    <tr style=\"text-align: right;\">\n",
       "      <th></th>\n",
       "      <th>Unnamed: 0</th>\n",
       "      <th>id_x</th>\n",
       "      <th>name</th>\n",
       "      <th>id_y</th>\n",
       "      <th>game_id</th>\n",
       "      <th>team_id</th>\n",
       "      <th>player_id</th>\n",
       "      <th>position</th>\n",
       "      <th>player_name</th>\n",
       "      <th>goals</th>\n",
       "      <th>...</th>\n",
       "      <th>caused_turnovers</th>\n",
       "      <th>faceoffs_won</th>\n",
       "      <th>faceoffs_taken</th>\n",
       "      <th>penalties</th>\n",
       "      <th>penalty_time</th>\n",
       "      <th>goalie_seconds</th>\n",
       "      <th>goals_allowed</th>\n",
       "      <th>goalie_saves</th>\n",
       "      <th>created_at</th>\n",
       "      <th>updated_at</th>\n",
       "    </tr>\n",
       "  </thead>\n",
       "  <tbody>\n",
       "    <tr>\n",
       "      <th>0</th>\n",
       "      <td>0</td>\n",
       "      <td>2</td>\n",
       "      <td>Binghamton</td>\n",
       "      <td>4712</td>\n",
       "      <td>1</td>\n",
       "      <td>2</td>\n",
       "      <td>41.0</td>\n",
       "      <td>D</td>\n",
       "      <td>Chris Bechle</td>\n",
       "      <td>0</td>\n",
       "      <td>...</td>\n",
       "      <td>0</td>\n",
       "      <td>0</td>\n",
       "      <td>0</td>\n",
       "      <td>1</td>\n",
       "      <td>30</td>\n",
       "      <td>0</td>\n",
       "      <td>0</td>\n",
       "      <td>0</td>\n",
       "      <td>2023-10-24 16:37:17.319077</td>\n",
       "      <td>2023-10-24 16:37:17.319077</td>\n",
       "    </tr>\n",
       "    <tr>\n",
       "      <th>1</th>\n",
       "      <td>1</td>\n",
       "      <td>2</td>\n",
       "      <td>Binghamton</td>\n",
       "      <td>4713</td>\n",
       "      <td>1</td>\n",
       "      <td>2</td>\n",
       "      <td>48.0</td>\n",
       "      <td>D</td>\n",
       "      <td>George Diegnan</td>\n",
       "      <td>0</td>\n",
       "      <td>...</td>\n",
       "      <td>0</td>\n",
       "      <td>1</td>\n",
       "      <td>2</td>\n",
       "      <td>0</td>\n",
       "      <td>0</td>\n",
       "      <td>0</td>\n",
       "      <td>0</td>\n",
       "      <td>0</td>\n",
       "      <td>2023-10-24 16:37:17.319077</td>\n",
       "      <td>2023-10-24 16:37:17.319077</td>\n",
       "    </tr>\n",
       "    <tr>\n",
       "      <th>2</th>\n",
       "      <td>2</td>\n",
       "      <td>2</td>\n",
       "      <td>Binghamton</td>\n",
       "      <td>4714</td>\n",
       "      <td>1</td>\n",
       "      <td>2</td>\n",
       "      <td>51.0</td>\n",
       "      <td>D</td>\n",
       "      <td>Sean Finnigan</td>\n",
       "      <td>0</td>\n",
       "      <td>...</td>\n",
       "      <td>0</td>\n",
       "      <td>0</td>\n",
       "      <td>0</td>\n",
       "      <td>0</td>\n",
       "      <td>0</td>\n",
       "      <td>0</td>\n",
       "      <td>0</td>\n",
       "      <td>0</td>\n",
       "      <td>2023-10-24 16:37:17.319077</td>\n",
       "      <td>2023-10-24 16:37:17.319077</td>\n",
       "    </tr>\n",
       "    <tr>\n",
       "      <th>3</th>\n",
       "      <td>3</td>\n",
       "      <td>2</td>\n",
       "      <td>Binghamton</td>\n",
       "      <td>4715</td>\n",
       "      <td>1</td>\n",
       "      <td>2</td>\n",
       "      <td>57.0</td>\n",
       "      <td>M</td>\n",
       "      <td>Matt Kaser</td>\n",
       "      <td>0</td>\n",
       "      <td>...</td>\n",
       "      <td>0</td>\n",
       "      <td>0</td>\n",
       "      <td>0</td>\n",
       "      <td>0</td>\n",
       "      <td>0</td>\n",
       "      <td>0</td>\n",
       "      <td>0</td>\n",
       "      <td>0</td>\n",
       "      <td>2023-10-24 16:37:17.319077</td>\n",
       "      <td>2023-10-24 16:37:17.319077</td>\n",
       "    </tr>\n",
       "    <tr>\n",
       "      <th>4</th>\n",
       "      <td>4</td>\n",
       "      <td>2</td>\n",
       "      <td>Binghamton</td>\n",
       "      <td>4716</td>\n",
       "      <td>1</td>\n",
       "      <td>2</td>\n",
       "      <td>63.0</td>\n",
       "      <td>M</td>\n",
       "      <td>Anthony Lombardo</td>\n",
       "      <td>0</td>\n",
       "      <td>...</td>\n",
       "      <td>0</td>\n",
       "      <td>0</td>\n",
       "      <td>0</td>\n",
       "      <td>0</td>\n",
       "      <td>0</td>\n",
       "      <td>0</td>\n",
       "      <td>0</td>\n",
       "      <td>0</td>\n",
       "      <td>2023-10-24 16:37:17.319077</td>\n",
       "      <td>2023-10-24 16:37:17.319077</td>\n",
       "    </tr>\n",
       "  </tbody>\n",
       "</table>\n",
       "<p>5 rows × 28 columns</p>\n",
       "</div>"
      ],
      "text/plain": [
       "   Unnamed: 0  id_x        name  id_y  game_id  team_id  player_id position  \\\n",
       "0           0     2  Binghamton  4712        1        2       41.0        D   \n",
       "1           1     2  Binghamton  4713        1        2       48.0        D   \n",
       "2           2     2  Binghamton  4714        1        2       51.0        D   \n",
       "3           3     2  Binghamton  4715        1        2       57.0        M   \n",
       "4           4     2  Binghamton  4716        1        2       63.0        M   \n",
       "\n",
       "        player_name  goals  ...  caused_turnovers  faceoffs_won  \\\n",
       "0      Chris Bechle      0  ...                 0             0   \n",
       "1    George Diegnan      0  ...                 0             1   \n",
       "2     Sean Finnigan      0  ...                 0             0   \n",
       "3        Matt Kaser      0  ...                 0             0   \n",
       "4  Anthony Lombardo      0  ...                 0             0   \n",
       "\n",
       "   faceoffs_taken  penalties  penalty_time  goalie_seconds  goals_allowed  \\\n",
       "0               0          1            30               0              0   \n",
       "1               2          0             0               0              0   \n",
       "2               0          0             0               0              0   \n",
       "3               0          0             0               0              0   \n",
       "4               0          0             0               0              0   \n",
       "\n",
       "   goalie_saves                  created_at                  updated_at  \n",
       "0             0  2023-10-24 16:37:17.319077  2023-10-24 16:37:17.319077  \n",
       "1             0  2023-10-24 16:37:17.319077  2023-10-24 16:37:17.319077  \n",
       "2             0  2023-10-24 16:37:17.319077  2023-10-24 16:37:17.319077  \n",
       "3             0  2023-10-24 16:37:17.319077  2023-10-24 16:37:17.319077  \n",
       "4             0  2023-10-24 16:37:17.319077  2023-10-24 16:37:17.319077  \n",
       "\n",
       "[5 rows x 28 columns]"
      ]
     },
     "execution_count": 4,
     "metadata": {},
     "output_type": "execute_result"
    }
   ],
   "source": [
    "boxscore_df = pd.read_csv('boxscore_df')\n",
    "boxscore_df.head()"
   ]
  },
  {
   "cell_type": "code",
   "execution_count": 3,
   "metadata": {},
   "outputs": [
    {
     "data": {
      "text/plain": [
       "(1180290, 28)"
      ]
     },
     "execution_count": 3,
     "metadata": {},
     "output_type": "execute_result"
    }
   ],
   "source": [
    "boxscore_df.shape"
   ]
  },
  {
   "cell_type": "markdown",
   "metadata": {},
   "source": [
    "Let's look at total goals by position"
   ]
  },
  {
   "cell_type": "code",
   "execution_count": 4,
   "metadata": {},
   "outputs": [
    {
     "data": {
      "text/plain": [
       "position\n",
       "A    116019\n",
       "D      2530\n",
       "G       127\n",
       "M     55449\n",
       "Name: goals, dtype: int64"
      ]
     },
     "execution_count": 4,
     "metadata": {},
     "output_type": "execute_result"
    }
   ],
   "source": [
    "boxscore_df.groupby('position')['goals'].sum()"
   ]
  },
  {
   "cell_type": "markdown",
   "metadata": {},
   "source": [
    "This makes sense. Most of the goals are scored by Attackers and Midfielders with a handful by Defenders and a couple by Goalies. I wonder what the counts by position are."
   ]
  },
  {
   "cell_type": "code",
   "execution_count": 5,
   "metadata": {},
   "outputs": [
    {
     "data": {
      "text/plain": [
       "position\n",
       "A    69311\n",
       "D    73686\n",
       "G    32902\n",
       "M    72669\n",
       "Name: player_id, dtype: int64"
      ]
     },
     "execution_count": 5,
     "metadata": {},
     "output_type": "execute_result"
    }
   ],
   "source": [
    "boxscore_df.groupby('position')['player_id'].count()"
   ]
  },
  {
   "cell_type": "markdown",
   "metadata": {},
   "source": [
    "This also makes sense. Each team is typically comprised of three A's, M's, and D's with one G. \n",
    "\n",
    "Create a new df for the classifier to include only the stats that are being taken into consideration. Then remove all blank entries."
   ]
  },
  {
   "cell_type": "code",
   "execution_count": 5,
   "metadata": {},
   "outputs": [],
   "source": [
    "df = boxscore_df[['position',\n",
    "       'goals', 'assists', 'points', 'shots', 'shots_on_goal',\n",
    "       'ground_balls', 'turnovers',\n",
    "       'caused_turnovers', 'faceoffs_won', 'faceoffs_taken', 'penalties',\n",
    "       'penalty_time', 'goalie_seconds', 'goals_allowed', 'goalie_saves']]\n",
    "\n",
    "df_noblanks = df[df['position'] != '']\n",
    "df_noblanks = df_noblanks.dropna()"
   ]
  },
  {
   "cell_type": "code",
   "execution_count": 4,
   "metadata": {},
   "outputs": [],
   "source": [
    "#df.head(10)"
   ]
  },
  {
   "cell_type": "markdown",
   "metadata": {},
   "source": [
    "Compare the shapes of the overall df to the one without blanks."
   ]
  },
  {
   "cell_type": "code",
   "execution_count": 7,
   "metadata": {},
   "outputs": [
    {
     "data": {
      "text/plain": [
       "((1180290, 16), (248616, 16))"
      ]
     },
     "execution_count": 7,
     "metadata": {},
     "output_type": "execute_result"
    }
   ],
   "source": [
    "df.shape, df_noblanks.shape"
   ]
  },
  {
   "cell_type": "markdown",
   "metadata": {},
   "source": [
    "~21% of the data points are not blank. Although, that's a low percentage, it's based on 1.1 millions rows of data. There are plenty of data points to train and test on."
   ]
  },
  {
   "cell_type": "code",
   "execution_count": 6,
   "metadata": {},
   "outputs": [],
   "source": [
    "X = df_noblanks.drop('position', axis=1).values\n",
    "y = df_noblanks['position'].values"
   ]
  },
  {
   "cell_type": "markdown",
   "metadata": {},
   "source": [
    "Create training and testing sets with default parameters"
   ]
  },
  {
   "cell_type": "code",
   "execution_count": 7,
   "metadata": {},
   "outputs": [],
   "source": [
    "X_train, X_test, y_train, y_test = train_test_split(X, y, random_state=42)"
   ]
  },
  {
   "cell_type": "markdown",
   "metadata": {},
   "source": [
    "Chose not to scale the data first. Would it make a difference? Maybe check later..."
   ]
  },
  {
   "cell_type": "markdown",
   "metadata": {},
   "source": [
    "Starting low by checking scores for neighbors 1-19"
   ]
  },
  {
   "cell_type": "code",
   "execution_count": 22,
   "metadata": {},
   "outputs": [
    {
     "name": "stdout",
     "output_type": "stream",
     "text": [
      "n=  1\n",
      "score=  0.6459278566142163\n",
      "n=  2\n",
      "score=  0.7027222704894295\n",
      "n=  3\n",
      "score=  0.6934388776265406\n",
      "n=  4\n",
      "score=  0.7112333880361682\n",
      "n=  5\n",
      "score=  0.7087395823277666\n",
      "n=  6\n",
      "score=  0.7230427647456318\n",
      "n=  7\n",
      "score=  0.7194388132702642\n",
      "n=  8\n",
      "score=  0.7250860765196125\n",
      "n=  9\n",
      "score=  0.7234289024037069\n",
      "n=  10\n",
      "score=  0.7281429996460405\n",
      "n=  11\n",
      "score=  0.7265662708755671\n",
      "n=  12\n",
      "score=  0.7298967081764649\n",
      "n=  13\n",
      "score=  0.7266949834282589\n",
      "n=  14\n",
      "score=  0.730073687936416\n",
      "n=  15\n",
      "score=  0.7285613154422885\n",
      "n=  16\n",
      "score=  0.7297197284165138\n",
      "n=  17\n",
      "score=  0.7299288863146378\n",
      "n=  18\n",
      "score=  0.7321813559867426\n",
      "n=  19\n",
      "score=  0.730524181870837\n"
     ]
    }
   ],
   "source": [
    "for n in range(1, 20):\n",
    "    knn = KNeighborsClassifier(n_neighbors=n)\n",
    "    knn.fit(X_train, y_train)\n",
    "    print('n= ', n)\n",
    "    print('score= ', knn.score(X_test, y_test))  #with player ID; 1 = 71.5, 3 = 69.9\n",
    "#knn = KNeighborsClassifier(n_neighbors=3)\n",
    "#knn.fit(X_train, y_train)"
   ]
  },
  {
   "cell_type": "markdown",
   "metadata": {},
   "source": [
    "Not bad, but we can do better. With all this data, let's expand the neighbors search to 1000"
   ]
  },
  {
   "cell_type": "code",
   "execution_count": 13,
   "metadata": {},
   "outputs": [
    {
     "name": "stdout",
     "output_type": "stream",
     "text": [
      "n=  10\n",
      "score=  0.7281429996460405\n",
      "n=  60\n",
      "score=  0.7362840686037906\n",
      "n=  110\n",
      "score=  0.7391801010393538\n",
      "n=  160\n",
      "score=  0.7387456961740194\n",
      "n=  210\n",
      "score=  0.7388422305885382\n",
      "n=  260\n",
      "score=  0.7372333236798919\n",
      "n=  310\n",
      "score=  0.7367989188145574\n",
      "n=  360\n",
      "score=  0.7367184734691251\n",
      "n=  410\n",
      "score=  0.7364610483637417\n",
      "n=  460\n",
      "score=  0.7360105544293207\n",
      "n=  510\n",
      "score=  0.735914020014802\n",
      "n=  560\n",
      "score=  0.7351095665604788\n",
      "n=  610\n",
      "score=  0.7355439714258133\n",
      "n=  660\n",
      "score=  0.7351095665604788\n",
      "n=  710\n",
      "score=  0.7343051131061556\n",
      "n=  760\n",
      "score=  0.7347395179714902\n",
      "n=  810\n",
      "score=  0.7341120442771182\n",
      "n=  860\n",
      "score=  0.7333236798918814\n",
      "n=  910\n",
      "score=  0.7329214531647199\n",
      "n=  960\n",
      "score=  0.7322778904012613\n"
     ]
    }
   ],
   "source": [
    "knnscores = []\n",
    "for n in range(10, 1001, 50):\n",
    "    knn = KNeighborsClassifier(n_neighbors=n)\n",
    "    knn.fit(X_train, y_train)\n",
    "    knnscores.append((n, knn.score(X_test, y_test)))\n",
    "    print('n= ', n)\n",
    "    print('score= ', knn.score(X_test, y_test)) "
   ]
  },
  {
   "cell_type": "markdown",
   "metadata": {},
   "source": [
    "It seems the ideal range is between 60-210"
   ]
  },
  {
   "cell_type": "code",
   "execution_count": 14,
   "metadata": {},
   "outputs": [
    {
     "name": "stdout",
     "output_type": "stream",
     "text": [
      "done\n"
     ]
    }
   ],
   "source": [
    "knnscores_60_210 = []\n",
    "for n in range(60, 211, 10):\n",
    "    knn = KNeighborsClassifier(n_neighbors=n)\n",
    "    knn.fit(X_train, y_train)\n",
    "    knnscores_60_210.append((n, knn.score(X_test, y_test)))\n",
    "    #print('n= ', n)\n",
    "    #print('score= ', knn.score(X_test, y_test)) \n",
    "print('done')"
   ]
  },
  {
   "cell_type": "code",
   "execution_count": 19,
   "metadata": {},
   "outputs": [],
   "source": [
    "#sorted(knnscores, key=lambda x:x[1], reverse=True)"
   ]
  },
  {
   "cell_type": "markdown",
   "metadata": {},
   "source": [
    "Narrowing down the range from 170 - 190"
   ]
  },
  {
   "cell_type": "code",
   "execution_count": 20,
   "metadata": {},
   "outputs": [
    {
     "name": "stdout",
     "output_type": "stream",
     "text": [
      "done\n"
     ]
    }
   ],
   "source": [
    "knnscores_170_190 = []\n",
    "for n in range(170, 191):\n",
    "    knn = KNeighborsClassifier(n_neighbors=n)\n",
    "    knn.fit(X_train, y_train)\n",
    "    knnscores_170_190.append((n, knn.score(X_test, y_test)))\n",
    "print('done')"
   ]
  },
  {
   "cell_type": "code",
   "execution_count": 21,
   "metadata": {},
   "outputs": [
    {
     "data": {
      "text/plain": [
       "[(180, 0.7396145059046884),\n",
       " (170, 0.7395018824210832),\n",
       " (171, 0.7394536152138237),\n",
       " (177, 0.7394053480065643),\n",
       " (190, 0.7394053480065643),\n",
       " (186, 0.7393892589374779),\n",
       " (175, 0.7393409917302185),\n",
       " (176, 0.7393409917302185),\n",
       " (178, 0.7392766354538727),\n",
       " (184, 0.7392605463847862),\n",
       " (179, 0.7392122791775267),\n",
       " (183, 0.7392122791775267),\n",
       " (187, 0.7392122791775267),\n",
       " (188, 0.7392122791775267),\n",
       " (181, 0.7391640119702674),\n",
       " (174, 0.7389709431412298),\n",
       " (172, 0.7389548540721433),\n",
       " (173, 0.7389548540721433),\n",
       " (182, 0.7389226759339704),\n",
       " (185, 0.7386169836213277),\n",
       " (189, 0.7385365382758954)]"
      ]
     },
     "execution_count": 21,
     "metadata": {},
     "output_type": "execute_result"
    }
   ],
   "source": [
    "sorted(knnscores_170_190, key=lambda x:x[1], reverse=True)"
   ]
  },
  {
   "cell_type": "markdown",
   "metadata": {},
   "source": [
    "180 neighbors yields the highest score\n",
    "\n",
    "fit Knn with default parms... weights = uniform"
   ]
  },
  {
   "cell_type": "code",
   "execution_count": 8,
   "metadata": {},
   "outputs": [
    {
     "data": {
      "text/html": [
       "<style>#sk-container-id-1 {\n",
       "  /* Definition of color scheme common for light and dark mode */\n",
       "  --sklearn-color-text: black;\n",
       "  --sklearn-color-line: gray;\n",
       "  /* Definition of color scheme for unfitted estimators */\n",
       "  --sklearn-color-unfitted-level-0: #fff5e6;\n",
       "  --sklearn-color-unfitted-level-1: #f6e4d2;\n",
       "  --sklearn-color-unfitted-level-2: #ffe0b3;\n",
       "  --sklearn-color-unfitted-level-3: chocolate;\n",
       "  /* Definition of color scheme for fitted estimators */\n",
       "  --sklearn-color-fitted-level-0: #f0f8ff;\n",
       "  --sklearn-color-fitted-level-1: #d4ebff;\n",
       "  --sklearn-color-fitted-level-2: #b3dbfd;\n",
       "  --sklearn-color-fitted-level-3: cornflowerblue;\n",
       "\n",
       "  /* Specific color for light theme */\n",
       "  --sklearn-color-text-on-default-background: var(--sg-text-color, var(--theme-code-foreground, var(--jp-content-font-color1, black)));\n",
       "  --sklearn-color-background: var(--sg-background-color, var(--theme-background, var(--jp-layout-color0, white)));\n",
       "  --sklearn-color-border-box: var(--sg-text-color, var(--theme-code-foreground, var(--jp-content-font-color1, black)));\n",
       "  --sklearn-color-icon: #696969;\n",
       "\n",
       "  @media (prefers-color-scheme: dark) {\n",
       "    /* Redefinition of color scheme for dark theme */\n",
       "    --sklearn-color-text-on-default-background: var(--sg-text-color, var(--theme-code-foreground, var(--jp-content-font-color1, white)));\n",
       "    --sklearn-color-background: var(--sg-background-color, var(--theme-background, var(--jp-layout-color0, #111)));\n",
       "    --sklearn-color-border-box: var(--sg-text-color, var(--theme-code-foreground, var(--jp-content-font-color1, white)));\n",
       "    --sklearn-color-icon: #878787;\n",
       "  }\n",
       "}\n",
       "\n",
       "#sk-container-id-1 {\n",
       "  color: var(--sklearn-color-text);\n",
       "}\n",
       "\n",
       "#sk-container-id-1 pre {\n",
       "  padding: 0;\n",
       "}\n",
       "\n",
       "#sk-container-id-1 input.sk-hidden--visually {\n",
       "  border: 0;\n",
       "  clip: rect(1px 1px 1px 1px);\n",
       "  clip: rect(1px, 1px, 1px, 1px);\n",
       "  height: 1px;\n",
       "  margin: -1px;\n",
       "  overflow: hidden;\n",
       "  padding: 0;\n",
       "  position: absolute;\n",
       "  width: 1px;\n",
       "}\n",
       "\n",
       "#sk-container-id-1 div.sk-dashed-wrapped {\n",
       "  border: 1px dashed var(--sklearn-color-line);\n",
       "  margin: 0 0.4em 0.5em 0.4em;\n",
       "  box-sizing: border-box;\n",
       "  padding-bottom: 0.4em;\n",
       "  background-color: var(--sklearn-color-background);\n",
       "}\n",
       "\n",
       "#sk-container-id-1 div.sk-container {\n",
       "  /* jupyter's `normalize.less` sets `[hidden] { display: none; }`\n",
       "     but bootstrap.min.css set `[hidden] { display: none !important; }`\n",
       "     so we also need the `!important` here to be able to override the\n",
       "     default hidden behavior on the sphinx rendered scikit-learn.org.\n",
       "     See: https://github.com/scikit-learn/scikit-learn/issues/21755 */\n",
       "  display: inline-block !important;\n",
       "  position: relative;\n",
       "}\n",
       "\n",
       "#sk-container-id-1 div.sk-text-repr-fallback {\n",
       "  display: none;\n",
       "}\n",
       "\n",
       "div.sk-parallel-item,\n",
       "div.sk-serial,\n",
       "div.sk-item {\n",
       "  /* draw centered vertical line to link estimators */\n",
       "  background-image: linear-gradient(var(--sklearn-color-text-on-default-background), var(--sklearn-color-text-on-default-background));\n",
       "  background-size: 2px 100%;\n",
       "  background-repeat: no-repeat;\n",
       "  background-position: center center;\n",
       "}\n",
       "\n",
       "/* Parallel-specific style estimator block */\n",
       "\n",
       "#sk-container-id-1 div.sk-parallel-item::after {\n",
       "  content: \"\";\n",
       "  width: 100%;\n",
       "  border-bottom: 2px solid var(--sklearn-color-text-on-default-background);\n",
       "  flex-grow: 1;\n",
       "}\n",
       "\n",
       "#sk-container-id-1 div.sk-parallel {\n",
       "  display: flex;\n",
       "  align-items: stretch;\n",
       "  justify-content: center;\n",
       "  background-color: var(--sklearn-color-background);\n",
       "  position: relative;\n",
       "}\n",
       "\n",
       "#sk-container-id-1 div.sk-parallel-item {\n",
       "  display: flex;\n",
       "  flex-direction: column;\n",
       "}\n",
       "\n",
       "#sk-container-id-1 div.sk-parallel-item:first-child::after {\n",
       "  align-self: flex-end;\n",
       "  width: 50%;\n",
       "}\n",
       "\n",
       "#sk-container-id-1 div.sk-parallel-item:last-child::after {\n",
       "  align-self: flex-start;\n",
       "  width: 50%;\n",
       "}\n",
       "\n",
       "#sk-container-id-1 div.sk-parallel-item:only-child::after {\n",
       "  width: 0;\n",
       "}\n",
       "\n",
       "/* Serial-specific style estimator block */\n",
       "\n",
       "#sk-container-id-1 div.sk-serial {\n",
       "  display: flex;\n",
       "  flex-direction: column;\n",
       "  align-items: center;\n",
       "  background-color: var(--sklearn-color-background);\n",
       "  padding-right: 1em;\n",
       "  padding-left: 1em;\n",
       "}\n",
       "\n",
       "\n",
       "/* Toggleable style: style used for estimator/Pipeline/ColumnTransformer box that is\n",
       "clickable and can be expanded/collapsed.\n",
       "- Pipeline and ColumnTransformer use this feature and define the default style\n",
       "- Estimators will overwrite some part of the style using the `sk-estimator` class\n",
       "*/\n",
       "\n",
       "/* Pipeline and ColumnTransformer style (default) */\n",
       "\n",
       "#sk-container-id-1 div.sk-toggleable {\n",
       "  /* Default theme specific background. It is overwritten whether we have a\n",
       "  specific estimator or a Pipeline/ColumnTransformer */\n",
       "  background-color: var(--sklearn-color-background);\n",
       "}\n",
       "\n",
       "/* Toggleable label */\n",
       "#sk-container-id-1 label.sk-toggleable__label {\n",
       "  cursor: pointer;\n",
       "  display: block;\n",
       "  width: 100%;\n",
       "  margin-bottom: 0;\n",
       "  padding: 0.5em;\n",
       "  box-sizing: border-box;\n",
       "  text-align: center;\n",
       "}\n",
       "\n",
       "#sk-container-id-1 label.sk-toggleable__label-arrow:before {\n",
       "  /* Arrow on the left of the label */\n",
       "  content: \"▸\";\n",
       "  float: left;\n",
       "  margin-right: 0.25em;\n",
       "  color: var(--sklearn-color-icon);\n",
       "}\n",
       "\n",
       "#sk-container-id-1 label.sk-toggleable__label-arrow:hover:before {\n",
       "  color: var(--sklearn-color-text);\n",
       "}\n",
       "\n",
       "/* Toggleable content - dropdown */\n",
       "\n",
       "#sk-container-id-1 div.sk-toggleable__content {\n",
       "  max-height: 0;\n",
       "  max-width: 0;\n",
       "  overflow: hidden;\n",
       "  text-align: left;\n",
       "  /* unfitted */\n",
       "  background-color: var(--sklearn-color-unfitted-level-0);\n",
       "}\n",
       "\n",
       "#sk-container-id-1 div.sk-toggleable__content.fitted {\n",
       "  /* fitted */\n",
       "  background-color: var(--sklearn-color-fitted-level-0);\n",
       "}\n",
       "\n",
       "#sk-container-id-1 div.sk-toggleable__content pre {\n",
       "  margin: 0.2em;\n",
       "  border-radius: 0.25em;\n",
       "  color: var(--sklearn-color-text);\n",
       "  /* unfitted */\n",
       "  background-color: var(--sklearn-color-unfitted-level-0);\n",
       "}\n",
       "\n",
       "#sk-container-id-1 div.sk-toggleable__content.fitted pre {\n",
       "  /* unfitted */\n",
       "  background-color: var(--sklearn-color-fitted-level-0);\n",
       "}\n",
       "\n",
       "#sk-container-id-1 input.sk-toggleable__control:checked~div.sk-toggleable__content {\n",
       "  /* Expand drop-down */\n",
       "  max-height: 200px;\n",
       "  max-width: 100%;\n",
       "  overflow: auto;\n",
       "}\n",
       "\n",
       "#sk-container-id-1 input.sk-toggleable__control:checked~label.sk-toggleable__label-arrow:before {\n",
       "  content: \"▾\";\n",
       "}\n",
       "\n",
       "/* Pipeline/ColumnTransformer-specific style */\n",
       "\n",
       "#sk-container-id-1 div.sk-label input.sk-toggleable__control:checked~label.sk-toggleable__label {\n",
       "  color: var(--sklearn-color-text);\n",
       "  background-color: var(--sklearn-color-unfitted-level-2);\n",
       "}\n",
       "\n",
       "#sk-container-id-1 div.sk-label.fitted input.sk-toggleable__control:checked~label.sk-toggleable__label {\n",
       "  background-color: var(--sklearn-color-fitted-level-2);\n",
       "}\n",
       "\n",
       "/* Estimator-specific style */\n",
       "\n",
       "/* Colorize estimator box */\n",
       "#sk-container-id-1 div.sk-estimator input.sk-toggleable__control:checked~label.sk-toggleable__label {\n",
       "  /* unfitted */\n",
       "  background-color: var(--sklearn-color-unfitted-level-2);\n",
       "}\n",
       "\n",
       "#sk-container-id-1 div.sk-estimator.fitted input.sk-toggleable__control:checked~label.sk-toggleable__label {\n",
       "  /* fitted */\n",
       "  background-color: var(--sklearn-color-fitted-level-2);\n",
       "}\n",
       "\n",
       "#sk-container-id-1 div.sk-label label.sk-toggleable__label,\n",
       "#sk-container-id-1 div.sk-label label {\n",
       "  /* The background is the default theme color */\n",
       "  color: var(--sklearn-color-text-on-default-background);\n",
       "}\n",
       "\n",
       "/* On hover, darken the color of the background */\n",
       "#sk-container-id-1 div.sk-label:hover label.sk-toggleable__label {\n",
       "  color: var(--sklearn-color-text);\n",
       "  background-color: var(--sklearn-color-unfitted-level-2);\n",
       "}\n",
       "\n",
       "/* Label box, darken color on hover, fitted */\n",
       "#sk-container-id-1 div.sk-label.fitted:hover label.sk-toggleable__label.fitted {\n",
       "  color: var(--sklearn-color-text);\n",
       "  background-color: var(--sklearn-color-fitted-level-2);\n",
       "}\n",
       "\n",
       "/* Estimator label */\n",
       "\n",
       "#sk-container-id-1 div.sk-label label {\n",
       "  font-family: monospace;\n",
       "  font-weight: bold;\n",
       "  display: inline-block;\n",
       "  line-height: 1.2em;\n",
       "}\n",
       "\n",
       "#sk-container-id-1 div.sk-label-container {\n",
       "  text-align: center;\n",
       "}\n",
       "\n",
       "/* Estimator-specific */\n",
       "#sk-container-id-1 div.sk-estimator {\n",
       "  font-family: monospace;\n",
       "  border: 1px dotted var(--sklearn-color-border-box);\n",
       "  border-radius: 0.25em;\n",
       "  box-sizing: border-box;\n",
       "  margin-bottom: 0.5em;\n",
       "  /* unfitted */\n",
       "  background-color: var(--sklearn-color-unfitted-level-0);\n",
       "}\n",
       "\n",
       "#sk-container-id-1 div.sk-estimator.fitted {\n",
       "  /* fitted */\n",
       "  background-color: var(--sklearn-color-fitted-level-0);\n",
       "}\n",
       "\n",
       "/* on hover */\n",
       "#sk-container-id-1 div.sk-estimator:hover {\n",
       "  /* unfitted */\n",
       "  background-color: var(--sklearn-color-unfitted-level-2);\n",
       "}\n",
       "\n",
       "#sk-container-id-1 div.sk-estimator.fitted:hover {\n",
       "  /* fitted */\n",
       "  background-color: var(--sklearn-color-fitted-level-2);\n",
       "}\n",
       "\n",
       "/* Specification for estimator info (e.g. \"i\" and \"?\") */\n",
       "\n",
       "/* Common style for \"i\" and \"?\" */\n",
       "\n",
       ".sk-estimator-doc-link,\n",
       "a:link.sk-estimator-doc-link,\n",
       "a:visited.sk-estimator-doc-link {\n",
       "  float: right;\n",
       "  font-size: smaller;\n",
       "  line-height: 1em;\n",
       "  font-family: monospace;\n",
       "  background-color: var(--sklearn-color-background);\n",
       "  border-radius: 1em;\n",
       "  height: 1em;\n",
       "  width: 1em;\n",
       "  text-decoration: none !important;\n",
       "  margin-left: 1ex;\n",
       "  /* unfitted */\n",
       "  border: var(--sklearn-color-unfitted-level-1) 1pt solid;\n",
       "  color: var(--sklearn-color-unfitted-level-1);\n",
       "}\n",
       "\n",
       ".sk-estimator-doc-link.fitted,\n",
       "a:link.sk-estimator-doc-link.fitted,\n",
       "a:visited.sk-estimator-doc-link.fitted {\n",
       "  /* fitted */\n",
       "  border: var(--sklearn-color-fitted-level-1) 1pt solid;\n",
       "  color: var(--sklearn-color-fitted-level-1);\n",
       "}\n",
       "\n",
       "/* On hover */\n",
       "div.sk-estimator:hover .sk-estimator-doc-link:hover,\n",
       ".sk-estimator-doc-link:hover,\n",
       "div.sk-label-container:hover .sk-estimator-doc-link:hover,\n",
       ".sk-estimator-doc-link:hover {\n",
       "  /* unfitted */\n",
       "  background-color: var(--sklearn-color-unfitted-level-3);\n",
       "  color: var(--sklearn-color-background);\n",
       "  text-decoration: none;\n",
       "}\n",
       "\n",
       "div.sk-estimator.fitted:hover .sk-estimator-doc-link.fitted:hover,\n",
       ".sk-estimator-doc-link.fitted:hover,\n",
       "div.sk-label-container:hover .sk-estimator-doc-link.fitted:hover,\n",
       ".sk-estimator-doc-link.fitted:hover {\n",
       "  /* fitted */\n",
       "  background-color: var(--sklearn-color-fitted-level-3);\n",
       "  color: var(--sklearn-color-background);\n",
       "  text-decoration: none;\n",
       "}\n",
       "\n",
       "/* Span, style for the box shown on hovering the info icon */\n",
       ".sk-estimator-doc-link span {\n",
       "  display: none;\n",
       "  z-index: 9999;\n",
       "  position: relative;\n",
       "  font-weight: normal;\n",
       "  right: .2ex;\n",
       "  padding: .5ex;\n",
       "  margin: .5ex;\n",
       "  width: min-content;\n",
       "  min-width: 20ex;\n",
       "  max-width: 50ex;\n",
       "  color: var(--sklearn-color-text);\n",
       "  box-shadow: 2pt 2pt 4pt #999;\n",
       "  /* unfitted */\n",
       "  background: var(--sklearn-color-unfitted-level-0);\n",
       "  border: .5pt solid var(--sklearn-color-unfitted-level-3);\n",
       "}\n",
       "\n",
       ".sk-estimator-doc-link.fitted span {\n",
       "  /* fitted */\n",
       "  background: var(--sklearn-color-fitted-level-0);\n",
       "  border: var(--sklearn-color-fitted-level-3);\n",
       "}\n",
       "\n",
       ".sk-estimator-doc-link:hover span {\n",
       "  display: block;\n",
       "}\n",
       "\n",
       "/* \"?\"-specific style due to the `<a>` HTML tag */\n",
       "\n",
       "#sk-container-id-1 a.estimator_doc_link {\n",
       "  float: right;\n",
       "  font-size: 1rem;\n",
       "  line-height: 1em;\n",
       "  font-family: monospace;\n",
       "  background-color: var(--sklearn-color-background);\n",
       "  border-radius: 1rem;\n",
       "  height: 1rem;\n",
       "  width: 1rem;\n",
       "  text-decoration: none;\n",
       "  /* unfitted */\n",
       "  color: var(--sklearn-color-unfitted-level-1);\n",
       "  border: var(--sklearn-color-unfitted-level-1) 1pt solid;\n",
       "}\n",
       "\n",
       "#sk-container-id-1 a.estimator_doc_link.fitted {\n",
       "  /* fitted */\n",
       "  border: var(--sklearn-color-fitted-level-1) 1pt solid;\n",
       "  color: var(--sklearn-color-fitted-level-1);\n",
       "}\n",
       "\n",
       "/* On hover */\n",
       "#sk-container-id-1 a.estimator_doc_link:hover {\n",
       "  /* unfitted */\n",
       "  background-color: var(--sklearn-color-unfitted-level-3);\n",
       "  color: var(--sklearn-color-background);\n",
       "  text-decoration: none;\n",
       "}\n",
       "\n",
       "#sk-container-id-1 a.estimator_doc_link.fitted:hover {\n",
       "  /* fitted */\n",
       "  background-color: var(--sklearn-color-fitted-level-3);\n",
       "}\n",
       "</style><div id=\"sk-container-id-1\" class=\"sk-top-container\"><div class=\"sk-text-repr-fallback\"><pre>KNeighborsClassifier(n_neighbors=180)</pre><b>In a Jupyter environment, please rerun this cell to show the HTML representation or trust the notebook. <br />On GitHub, the HTML representation is unable to render, please try loading this page with nbviewer.org.</b></div><div class=\"sk-container\" hidden><div class=\"sk-item\"><div class=\"sk-estimator fitted sk-toggleable\"><input class=\"sk-toggleable__control sk-hidden--visually\" id=\"sk-estimator-id-1\" type=\"checkbox\" checked><label for=\"sk-estimator-id-1\" class=\"sk-toggleable__label fitted sk-toggleable__label-arrow fitted\">&nbsp;&nbsp;KNeighborsClassifier<a class=\"sk-estimator-doc-link fitted\" rel=\"noreferrer\" target=\"_blank\" href=\"https://scikit-learn.org/1.4/modules/generated/sklearn.neighbors.KNeighborsClassifier.html\">?<span>Documentation for KNeighborsClassifier</span></a><span class=\"sk-estimator-doc-link fitted\">i<span>Fitted</span></span></label><div class=\"sk-toggleable__content fitted\"><pre>KNeighborsClassifier(n_neighbors=180)</pre></div> </div></div></div></div>"
      ],
      "text/plain": [
       "KNeighborsClassifier(n_neighbors=180)"
      ]
     },
     "execution_count": 8,
     "metadata": {},
     "output_type": "execute_result"
    }
   ],
   "source": [
    "knn = KNeighborsClassifier(n_neighbors=180)\n",
    "knn.fit(X_train, y_train)"
   ]
  },
  {
   "cell_type": "code",
   "execution_count": 11,
   "metadata": {},
   "outputs": [
    {
     "name": "stdout",
     "output_type": "stream",
     "text": [
      "knn unif training accuracy: 0.74\n",
      "knn unif test accuracy: 0.74\n"
     ]
    }
   ],
   "source": [
    "print('knn unif training accuracy: {:.4f}'.format(knn.score(X_train,y_train)))\n",
    "print('knn unif test accuracy: {:.4f}'.format(knn.score(X_test, y_test)))"
   ]
  },
  {
   "cell_type": "markdown",
   "metadata": {},
   "source": [
    "try knn with weights = distance"
   ]
  },
  {
   "cell_type": "code",
   "execution_count": 9,
   "metadata": {},
   "outputs": [
    {
     "name": "stdout",
     "output_type": "stream",
     "text": [
      "knn dist training accuracy: 0.8176\n",
      "knn dist test accuracy: 0.7269\n"
     ]
    }
   ],
   "source": [
    "knnd = KNeighborsClassifier(n_neighbors=180, weights='distance')\n",
    "knnd.fit(X_train, y_train)\n",
    "print('knn dist training accuracy: {:.4f}'.format(knnd.score(X_train,y_train)))\n",
    "print('knn dist test accuracy: {:.4f}'.format(knnd.score(X_test, y_test)))"
   ]
  },
  {
   "cell_type": "markdown",
   "metadata": {},
   "source": [
    "Test examples must make sense. If a player scores a goal, that means they also get a point, need to take a shot, and it be a shot on goal. Similarly, if a goalie has a save or has a goal allowed, there must be goalie minutes accounted for. In addition, you can't have a faceoff won if there is not faceoff taken nor can there be penalty minutes without a penalty. These items should be considered when testing. "
   ]
  },
  {
   "cell_type": "markdown",
   "metadata": {},
   "source": [
    "233 seconds with 4 saves means your likely a goalie"
   ]
  },
  {
   "cell_type": "code",
   "execution_count": 16,
   "metadata": {},
   "outputs": [
    {
     "name": "stdout",
     "output_type": "stream",
     "text": [
      "['G']\n"
     ]
    }
   ],
   "source": [
    "testGK = np.array([[\n",
    "       0, 0, 0, 0, 0,\n",
    "       0, 0, 0, 0, 0, 0, 0, \n",
    "       233, 0, 4]])\n",
    "#      'goals', 'assists', 'points', 'shots', 'shots_on_goal'\n",
    "#       'ground_balls', 'turnovers','caused_turnovers', 'faceoffs_won', 'faceoffs_taken', 'penalties','penalty_time'\n",
    "#       'goalie_seconds', 'goals_allowed', 'goalie_saves'\n",
    "print(knn.predict(testGK))"
   ]
  },
  {
   "cell_type": "markdown",
   "metadata": {},
   "source": [
    "<=234 goalie seconds with all zeros likely means your a goalie, >234 seconds could be a D"
   ]
  },
  {
   "cell_type": "code",
   "execution_count": 17,
   "metadata": {},
   "outputs": [
    {
     "name": "stdout",
     "output_type": "stream",
     "text": [
      "['G']\n"
     ]
    }
   ],
   "source": [
    "mins_G = np.array([[\n",
    "       0, 0, 0, 0, 0,\n",
    "       0, 0, 0, 0, 0, 0, 0, \n",
    "       234, 0, 0]])\n",
    "print(knn.predict(mins_G))"
   ]
  },
  {
   "cell_type": "markdown",
   "metadata": {},
   "source": [
    "1 goal, 1 point, 4 shots, and 1 on goal is likely a M, but 2 goals, 2 points, with 4 shots and 2 on goal is likely an A"
   ]
  },
  {
   "cell_type": "code",
   "execution_count": 18,
   "metadata": {},
   "outputs": [
    {
     "name": "stdout",
     "output_type": "stream",
     "text": [
      "['A']\n"
     ]
    }
   ],
   "source": [
    "twopoints = np.array([[\n",
    "       2, 0, 2, 4, 2,\n",
    "       0, 0, 0, 0, 0, 0, 0, \n",
    "       0, 0, 0]])\n",
    "print(knn.predict(twopoints))"
   ]
  },
  {
   "cell_type": "markdown",
   "metadata": {},
   "source": [
    "Time to view what knn predicts vs the actual"
   ]
  },
  {
   "cell_type": "code",
   "execution_count": 19,
   "metadata": {},
   "outputs": [
    {
     "data": {
      "text/plain": [
       "array(['A', 'M', 'D', 'A', 'M'], dtype=object)"
      ]
     },
     "execution_count": 19,
     "metadata": {},
     "output_type": "execute_result"
    }
   ],
   "source": [
    "knn.predict(X_test)[:5]"
   ]
  },
  {
   "cell_type": "code",
   "execution_count": 20,
   "metadata": {},
   "outputs": [
    {
     "data": {
      "text/plain": [
       "array(['A', 'M', 'M', 'A', 'M'], dtype=object)"
      ]
     },
     "execution_count": 20,
     "metadata": {},
     "output_type": "execute_result"
    }
   ],
   "source": [
    "y_test[:5]"
   ]
  },
  {
   "cell_type": "markdown",
   "metadata": {},
   "source": [
    "I wonder if different train/test sizes will make a difference."
   ]
  },
  {
   "cell_type": "code",
   "execution_count": 13,
   "metadata": {},
   "outputs": [
    {
     "name": "stdout",
     "output_type": "stream",
     "text": [
      "0.6\n",
      "knn unif training accuracy: 0.7422\n",
      "knn unif test accuracy: 0.7377\n",
      "knn dist training accuracy: 0.8227\n",
      "knn dist test accuracy: 0.7254\n",
      "0.65\n",
      "knn unif training accuracy: 0.7419\n",
      "knn unif test accuracy: 0.7372\n",
      "knn dist training accuracy: 0.8209\n",
      "knn dist test accuracy: 0.7254\n",
      "0.7\n",
      "knn unif training accuracy: 0.7419\n",
      "knn unif test accuracy: 0.7366\n",
      "knn dist training accuracy: 0.8192\n",
      "knn dist test accuracy: 0.7256\n",
      "0.75\n",
      "knn unif training accuracy: 0.7420\n",
      "knn unif test accuracy: 0.7396\n",
      "knn dist training accuracy: 0.8176\n",
      "knn dist test accuracy: 0.7269\n",
      "0.8\n",
      "knn unif training accuracy: 0.7419\n",
      "knn unif test accuracy: 0.7402\n",
      "knn dist training accuracy: 0.8158\n",
      "knn dist test accuracy: 0.7275\n",
      "0.85\n",
      "knn unif training accuracy: 0.7421\n",
      "knn unif test accuracy: 0.7379\n",
      "knn dist training accuracy: 0.8146\n",
      "knn dist test accuracy: 0.7256\n",
      "0.9\n",
      "knn unif training accuracy: 0.7421\n",
      "knn unif test accuracy: 0.7387\n",
      "knn dist training accuracy: 0.8133\n",
      "knn dist test accuracy: 0.7259\n",
      "0.95\n",
      "knn unif training accuracy: 0.7424\n",
      "knn unif test accuracy: 0.7378\n",
      "knn dist training accuracy: 0.8121\n",
      "knn dist test accuracy: 0.7249\n"
     ]
    }
   ],
   "source": [
    "for r in range(60, 96, 5):\n",
    "    print(r/100)\n",
    "    X_train, X_test, y_train, y_test = train_test_split(X, y, train_size=r/100, random_state=42)\n",
    "    knn.fit(X_train, y_train)\n",
    "    print('knn unif training accuracy: {:.4f}'.format(knn.score(X_train,y_train)))\n",
    "    print('knn unif test accuracy: {:.4f}'.format(knn.score(X_test, y_test)))\n",
    "    knnd.fit(X_train, y_train)\n",
    "    print('knn dist training accuracy: {:.4f}'.format(knnd.score(X_train,y_train)))\n",
    "    print('knn dist test accuracy: {:.4f}'.format(knnd.score(X_test, y_test)))\n",
    "    "
   ]
  },
  {
   "cell_type": "markdown",
   "metadata": {},
   "source": [
    "A KNeighbors classifer with the default parameters seems accurate. There are numerous scenarios that are in play and being ~74% accurate is acceptable...but that doesn't preclude me from trying another one. "
   ]
  },
  {
   "cell_type": "markdown",
   "metadata": {},
   "source": [
    "Going to remove the same features as in the best scoring decision tree model\n",
    "\n",
    "Remove goals, assists, penalty time, shots on goal, goalie saves, goals allowed, faceoffs won"
   ]
  },
  {
   "cell_type": "code",
   "execution_count": 14,
   "metadata": {},
   "outputs": [],
   "source": [
    "#remove goals, assists, penalty time, shots on goal, goalie saves, goals allowed, faceoffs won\n",
    "X2 = df_noblanks.drop(['position','goals','assists','faceoffs_won','penalty_time','shots_on_goal','goalie_saves','goals_allowed'], axis=1).values\n",
    "y2 = df_noblanks['position'].values"
   ]
  },
  {
   "cell_type": "code",
   "execution_count": 17,
   "metadata": {},
   "outputs": [
    {
     "name": "stdout",
     "output_type": "stream",
     "text": [
      "0.6\n"
     ]
    },
    {
     "name": "stdout",
     "output_type": "stream",
     "text": [
      "knn unif training accuracy: 0.7425\n",
      "knn unif test accuracy: 0.7384\n",
      "knn dist training accuracy: 0.7793\n",
      "knn dist test accuracy: 0.7285\n",
      "0.65\n",
      "knn unif training accuracy: 0.7422\n",
      "knn unif test accuracy: 0.7373\n",
      "knn dist training accuracy: 0.7785\n",
      "knn dist test accuracy: 0.7279\n",
      "0.7\n",
      "knn unif training accuracy: 0.7418\n",
      "knn unif test accuracy: 0.7363\n",
      "knn dist training accuracy: 0.7770\n",
      "knn dist test accuracy: 0.7279\n",
      "0.75\n",
      "knn unif training accuracy: 0.7416\n",
      "knn unif test accuracy: 0.7381\n",
      "knn dist training accuracy: 0.7758\n",
      "knn dist test accuracy: 0.7296\n",
      "0.8\n",
      "knn unif training accuracy: 0.7416\n",
      "knn unif test accuracy: 0.7392\n",
      "knn dist training accuracy: 0.7746\n",
      "knn dist test accuracy: 0.7298\n",
      "0.85\n",
      "knn unif training accuracy: 0.7415\n",
      "knn unif test accuracy: 0.7378\n",
      "knn dist training accuracy: 0.7737\n",
      "knn dist test accuracy: 0.7297\n",
      "0.9\n",
      "knn unif training accuracy: 0.7418\n",
      "knn unif test accuracy: 0.7355\n",
      "knn dist training accuracy: 0.7730\n",
      "knn dist test accuracy: 0.7273\n",
      "0.95\n",
      "knn unif training accuracy: 0.7424\n",
      "knn unif test accuracy: 0.7342\n",
      "knn dist training accuracy: 0.7724\n",
      "knn dist test accuracy: 0.7230\n"
     ]
    }
   ],
   "source": [
    "for r in range(60, 96, 5):\n",
    "    print(r/100)\n",
    "    X_train2, X_test2, y_train2, y_test2 = train_test_split(X2, y2, train_size=r/100, random_state=42)\n",
    "    knn.fit(X_train2, y_train2)\n",
    "    print('knn unif training accuracy: {:.4f}'.format(knn.score(X_train2,y_train2)))\n",
    "    print('knn unif test accuracy: {:.4f}'.format(knn.score(X_test2, y_test2)))\n",
    "    knnd.fit(X_train2, y_train2)\n",
    "    print('knn dist training accuracy: {:.4f}'.format(knnd.score(X_train2,y_train2)))\n",
    "    print('knn dist test accuracy: {:.4f}'.format(knnd.score(X_test2, y_test2)))"
   ]
  },
  {
   "cell_type": "markdown",
   "metadata": {},
   "source": [
    "After several iterations of ablation for four models and neighbor testing, the best is knn, uniform, 180 neighbors, with 80% training. Let's check the cross validation score"
   ]
  },
  {
   "cell_type": "markdown",
   "metadata": {},
   "source": [
    "Check cross validation score of knn distance"
   ]
  },
  {
   "cell_type": "code",
   "execution_count": 10,
   "metadata": {},
   "outputs": [
    {
     "name": "stdout",
     "output_type": "stream",
     "text": [
      "5 cross val score: 0.7249 accuracy with a standard deviation of 0.0037\n"
     ]
    }
   ],
   "source": [
    "csv2 = cross_val_score(knnd, X, y, cv=5)\n",
    "print(\"5 cross val score: %0.4f accuracy with a standard deviation of %0.4f\" % (csv2.mean(), csv2.std()))"
   ]
  },
  {
   "cell_type": "code",
   "execution_count": 6,
   "metadata": {},
   "outputs": [
    {
     "data": {
      "text/html": [
       "<style>#sk-container-id-1 {\n",
       "  /* Definition of color scheme common for light and dark mode */\n",
       "  --sklearn-color-text: black;\n",
       "  --sklearn-color-line: gray;\n",
       "  /* Definition of color scheme for unfitted estimators */\n",
       "  --sklearn-color-unfitted-level-0: #fff5e6;\n",
       "  --sklearn-color-unfitted-level-1: #f6e4d2;\n",
       "  --sklearn-color-unfitted-level-2: #ffe0b3;\n",
       "  --sklearn-color-unfitted-level-3: chocolate;\n",
       "  /* Definition of color scheme for fitted estimators */\n",
       "  --sklearn-color-fitted-level-0: #f0f8ff;\n",
       "  --sklearn-color-fitted-level-1: #d4ebff;\n",
       "  --sklearn-color-fitted-level-2: #b3dbfd;\n",
       "  --sklearn-color-fitted-level-3: cornflowerblue;\n",
       "\n",
       "  /* Specific color for light theme */\n",
       "  --sklearn-color-text-on-default-background: var(--sg-text-color, var(--theme-code-foreground, var(--jp-content-font-color1, black)));\n",
       "  --sklearn-color-background: var(--sg-background-color, var(--theme-background, var(--jp-layout-color0, white)));\n",
       "  --sklearn-color-border-box: var(--sg-text-color, var(--theme-code-foreground, var(--jp-content-font-color1, black)));\n",
       "  --sklearn-color-icon: #696969;\n",
       "\n",
       "  @media (prefers-color-scheme: dark) {\n",
       "    /* Redefinition of color scheme for dark theme */\n",
       "    --sklearn-color-text-on-default-background: var(--sg-text-color, var(--theme-code-foreground, var(--jp-content-font-color1, white)));\n",
       "    --sklearn-color-background: var(--sg-background-color, var(--theme-background, var(--jp-layout-color0, #111)));\n",
       "    --sklearn-color-border-box: var(--sg-text-color, var(--theme-code-foreground, var(--jp-content-font-color1, white)));\n",
       "    --sklearn-color-icon: #878787;\n",
       "  }\n",
       "}\n",
       "\n",
       "#sk-container-id-1 {\n",
       "  color: var(--sklearn-color-text);\n",
       "}\n",
       "\n",
       "#sk-container-id-1 pre {\n",
       "  padding: 0;\n",
       "}\n",
       "\n",
       "#sk-container-id-1 input.sk-hidden--visually {\n",
       "  border: 0;\n",
       "  clip: rect(1px 1px 1px 1px);\n",
       "  clip: rect(1px, 1px, 1px, 1px);\n",
       "  height: 1px;\n",
       "  margin: -1px;\n",
       "  overflow: hidden;\n",
       "  padding: 0;\n",
       "  position: absolute;\n",
       "  width: 1px;\n",
       "}\n",
       "\n",
       "#sk-container-id-1 div.sk-dashed-wrapped {\n",
       "  border: 1px dashed var(--sklearn-color-line);\n",
       "  margin: 0 0.4em 0.5em 0.4em;\n",
       "  box-sizing: border-box;\n",
       "  padding-bottom: 0.4em;\n",
       "  background-color: var(--sklearn-color-background);\n",
       "}\n",
       "\n",
       "#sk-container-id-1 div.sk-container {\n",
       "  /* jupyter's `normalize.less` sets `[hidden] { display: none; }`\n",
       "     but bootstrap.min.css set `[hidden] { display: none !important; }`\n",
       "     so we also need the `!important` here to be able to override the\n",
       "     default hidden behavior on the sphinx rendered scikit-learn.org.\n",
       "     See: https://github.com/scikit-learn/scikit-learn/issues/21755 */\n",
       "  display: inline-block !important;\n",
       "  position: relative;\n",
       "}\n",
       "\n",
       "#sk-container-id-1 div.sk-text-repr-fallback {\n",
       "  display: none;\n",
       "}\n",
       "\n",
       "div.sk-parallel-item,\n",
       "div.sk-serial,\n",
       "div.sk-item {\n",
       "  /* draw centered vertical line to link estimators */\n",
       "  background-image: linear-gradient(var(--sklearn-color-text-on-default-background), var(--sklearn-color-text-on-default-background));\n",
       "  background-size: 2px 100%;\n",
       "  background-repeat: no-repeat;\n",
       "  background-position: center center;\n",
       "}\n",
       "\n",
       "/* Parallel-specific style estimator block */\n",
       "\n",
       "#sk-container-id-1 div.sk-parallel-item::after {\n",
       "  content: \"\";\n",
       "  width: 100%;\n",
       "  border-bottom: 2px solid var(--sklearn-color-text-on-default-background);\n",
       "  flex-grow: 1;\n",
       "}\n",
       "\n",
       "#sk-container-id-1 div.sk-parallel {\n",
       "  display: flex;\n",
       "  align-items: stretch;\n",
       "  justify-content: center;\n",
       "  background-color: var(--sklearn-color-background);\n",
       "  position: relative;\n",
       "}\n",
       "\n",
       "#sk-container-id-1 div.sk-parallel-item {\n",
       "  display: flex;\n",
       "  flex-direction: column;\n",
       "}\n",
       "\n",
       "#sk-container-id-1 div.sk-parallel-item:first-child::after {\n",
       "  align-self: flex-end;\n",
       "  width: 50%;\n",
       "}\n",
       "\n",
       "#sk-container-id-1 div.sk-parallel-item:last-child::after {\n",
       "  align-self: flex-start;\n",
       "  width: 50%;\n",
       "}\n",
       "\n",
       "#sk-container-id-1 div.sk-parallel-item:only-child::after {\n",
       "  width: 0;\n",
       "}\n",
       "\n",
       "/* Serial-specific style estimator block */\n",
       "\n",
       "#sk-container-id-1 div.sk-serial {\n",
       "  display: flex;\n",
       "  flex-direction: column;\n",
       "  align-items: center;\n",
       "  background-color: var(--sklearn-color-background);\n",
       "  padding-right: 1em;\n",
       "  padding-left: 1em;\n",
       "}\n",
       "\n",
       "\n",
       "/* Toggleable style: style used for estimator/Pipeline/ColumnTransformer box that is\n",
       "clickable and can be expanded/collapsed.\n",
       "- Pipeline and ColumnTransformer use this feature and define the default style\n",
       "- Estimators will overwrite some part of the style using the `sk-estimator` class\n",
       "*/\n",
       "\n",
       "/* Pipeline and ColumnTransformer style (default) */\n",
       "\n",
       "#sk-container-id-1 div.sk-toggleable {\n",
       "  /* Default theme specific background. It is overwritten whether we have a\n",
       "  specific estimator or a Pipeline/ColumnTransformer */\n",
       "  background-color: var(--sklearn-color-background);\n",
       "}\n",
       "\n",
       "/* Toggleable label */\n",
       "#sk-container-id-1 label.sk-toggleable__label {\n",
       "  cursor: pointer;\n",
       "  display: block;\n",
       "  width: 100%;\n",
       "  margin-bottom: 0;\n",
       "  padding: 0.5em;\n",
       "  box-sizing: border-box;\n",
       "  text-align: center;\n",
       "}\n",
       "\n",
       "#sk-container-id-1 label.sk-toggleable__label-arrow:before {\n",
       "  /* Arrow on the left of the label */\n",
       "  content: \"▸\";\n",
       "  float: left;\n",
       "  margin-right: 0.25em;\n",
       "  color: var(--sklearn-color-icon);\n",
       "}\n",
       "\n",
       "#sk-container-id-1 label.sk-toggleable__label-arrow:hover:before {\n",
       "  color: var(--sklearn-color-text);\n",
       "}\n",
       "\n",
       "/* Toggleable content - dropdown */\n",
       "\n",
       "#sk-container-id-1 div.sk-toggleable__content {\n",
       "  max-height: 0;\n",
       "  max-width: 0;\n",
       "  overflow: hidden;\n",
       "  text-align: left;\n",
       "  /* unfitted */\n",
       "  background-color: var(--sklearn-color-unfitted-level-0);\n",
       "}\n",
       "\n",
       "#sk-container-id-1 div.sk-toggleable__content.fitted {\n",
       "  /* fitted */\n",
       "  background-color: var(--sklearn-color-fitted-level-0);\n",
       "}\n",
       "\n",
       "#sk-container-id-1 div.sk-toggleable__content pre {\n",
       "  margin: 0.2em;\n",
       "  border-radius: 0.25em;\n",
       "  color: var(--sklearn-color-text);\n",
       "  /* unfitted */\n",
       "  background-color: var(--sklearn-color-unfitted-level-0);\n",
       "}\n",
       "\n",
       "#sk-container-id-1 div.sk-toggleable__content.fitted pre {\n",
       "  /* unfitted */\n",
       "  background-color: var(--sklearn-color-fitted-level-0);\n",
       "}\n",
       "\n",
       "#sk-container-id-1 input.sk-toggleable__control:checked~div.sk-toggleable__content {\n",
       "  /* Expand drop-down */\n",
       "  max-height: 200px;\n",
       "  max-width: 100%;\n",
       "  overflow: auto;\n",
       "}\n",
       "\n",
       "#sk-container-id-1 input.sk-toggleable__control:checked~label.sk-toggleable__label-arrow:before {\n",
       "  content: \"▾\";\n",
       "}\n",
       "\n",
       "/* Pipeline/ColumnTransformer-specific style */\n",
       "\n",
       "#sk-container-id-1 div.sk-label input.sk-toggleable__control:checked~label.sk-toggleable__label {\n",
       "  color: var(--sklearn-color-text);\n",
       "  background-color: var(--sklearn-color-unfitted-level-2);\n",
       "}\n",
       "\n",
       "#sk-container-id-1 div.sk-label.fitted input.sk-toggleable__control:checked~label.sk-toggleable__label {\n",
       "  background-color: var(--sklearn-color-fitted-level-2);\n",
       "}\n",
       "\n",
       "/* Estimator-specific style */\n",
       "\n",
       "/* Colorize estimator box */\n",
       "#sk-container-id-1 div.sk-estimator input.sk-toggleable__control:checked~label.sk-toggleable__label {\n",
       "  /* unfitted */\n",
       "  background-color: var(--sklearn-color-unfitted-level-2);\n",
       "}\n",
       "\n",
       "#sk-container-id-1 div.sk-estimator.fitted input.sk-toggleable__control:checked~label.sk-toggleable__label {\n",
       "  /* fitted */\n",
       "  background-color: var(--sklearn-color-fitted-level-2);\n",
       "}\n",
       "\n",
       "#sk-container-id-1 div.sk-label label.sk-toggleable__label,\n",
       "#sk-container-id-1 div.sk-label label {\n",
       "  /* The background is the default theme color */\n",
       "  color: var(--sklearn-color-text-on-default-background);\n",
       "}\n",
       "\n",
       "/* On hover, darken the color of the background */\n",
       "#sk-container-id-1 div.sk-label:hover label.sk-toggleable__label {\n",
       "  color: var(--sklearn-color-text);\n",
       "  background-color: var(--sklearn-color-unfitted-level-2);\n",
       "}\n",
       "\n",
       "/* Label box, darken color on hover, fitted */\n",
       "#sk-container-id-1 div.sk-label.fitted:hover label.sk-toggleable__label.fitted {\n",
       "  color: var(--sklearn-color-text);\n",
       "  background-color: var(--sklearn-color-fitted-level-2);\n",
       "}\n",
       "\n",
       "/* Estimator label */\n",
       "\n",
       "#sk-container-id-1 div.sk-label label {\n",
       "  font-family: monospace;\n",
       "  font-weight: bold;\n",
       "  display: inline-block;\n",
       "  line-height: 1.2em;\n",
       "}\n",
       "\n",
       "#sk-container-id-1 div.sk-label-container {\n",
       "  text-align: center;\n",
       "}\n",
       "\n",
       "/* Estimator-specific */\n",
       "#sk-container-id-1 div.sk-estimator {\n",
       "  font-family: monospace;\n",
       "  border: 1px dotted var(--sklearn-color-border-box);\n",
       "  border-radius: 0.25em;\n",
       "  box-sizing: border-box;\n",
       "  margin-bottom: 0.5em;\n",
       "  /* unfitted */\n",
       "  background-color: var(--sklearn-color-unfitted-level-0);\n",
       "}\n",
       "\n",
       "#sk-container-id-1 div.sk-estimator.fitted {\n",
       "  /* fitted */\n",
       "  background-color: var(--sklearn-color-fitted-level-0);\n",
       "}\n",
       "\n",
       "/* on hover */\n",
       "#sk-container-id-1 div.sk-estimator:hover {\n",
       "  /* unfitted */\n",
       "  background-color: var(--sklearn-color-unfitted-level-2);\n",
       "}\n",
       "\n",
       "#sk-container-id-1 div.sk-estimator.fitted:hover {\n",
       "  /* fitted */\n",
       "  background-color: var(--sklearn-color-fitted-level-2);\n",
       "}\n",
       "\n",
       "/* Specification for estimator info (e.g. \"i\" and \"?\") */\n",
       "\n",
       "/* Common style for \"i\" and \"?\" */\n",
       "\n",
       ".sk-estimator-doc-link,\n",
       "a:link.sk-estimator-doc-link,\n",
       "a:visited.sk-estimator-doc-link {\n",
       "  float: right;\n",
       "  font-size: smaller;\n",
       "  line-height: 1em;\n",
       "  font-family: monospace;\n",
       "  background-color: var(--sklearn-color-background);\n",
       "  border-radius: 1em;\n",
       "  height: 1em;\n",
       "  width: 1em;\n",
       "  text-decoration: none !important;\n",
       "  margin-left: 1ex;\n",
       "  /* unfitted */\n",
       "  border: var(--sklearn-color-unfitted-level-1) 1pt solid;\n",
       "  color: var(--sklearn-color-unfitted-level-1);\n",
       "}\n",
       "\n",
       ".sk-estimator-doc-link.fitted,\n",
       "a:link.sk-estimator-doc-link.fitted,\n",
       "a:visited.sk-estimator-doc-link.fitted {\n",
       "  /* fitted */\n",
       "  border: var(--sklearn-color-fitted-level-1) 1pt solid;\n",
       "  color: var(--sklearn-color-fitted-level-1);\n",
       "}\n",
       "\n",
       "/* On hover */\n",
       "div.sk-estimator:hover .sk-estimator-doc-link:hover,\n",
       ".sk-estimator-doc-link:hover,\n",
       "div.sk-label-container:hover .sk-estimator-doc-link:hover,\n",
       ".sk-estimator-doc-link:hover {\n",
       "  /* unfitted */\n",
       "  background-color: var(--sklearn-color-unfitted-level-3);\n",
       "  color: var(--sklearn-color-background);\n",
       "  text-decoration: none;\n",
       "}\n",
       "\n",
       "div.sk-estimator.fitted:hover .sk-estimator-doc-link.fitted:hover,\n",
       ".sk-estimator-doc-link.fitted:hover,\n",
       "div.sk-label-container:hover .sk-estimator-doc-link.fitted:hover,\n",
       ".sk-estimator-doc-link.fitted:hover {\n",
       "  /* fitted */\n",
       "  background-color: var(--sklearn-color-fitted-level-3);\n",
       "  color: var(--sklearn-color-background);\n",
       "  text-decoration: none;\n",
       "}\n",
       "\n",
       "/* Span, style for the box shown on hovering the info icon */\n",
       ".sk-estimator-doc-link span {\n",
       "  display: none;\n",
       "  z-index: 9999;\n",
       "  position: relative;\n",
       "  font-weight: normal;\n",
       "  right: .2ex;\n",
       "  padding: .5ex;\n",
       "  margin: .5ex;\n",
       "  width: min-content;\n",
       "  min-width: 20ex;\n",
       "  max-width: 50ex;\n",
       "  color: var(--sklearn-color-text);\n",
       "  box-shadow: 2pt 2pt 4pt #999;\n",
       "  /* unfitted */\n",
       "  background: var(--sklearn-color-unfitted-level-0);\n",
       "  border: .5pt solid var(--sklearn-color-unfitted-level-3);\n",
       "}\n",
       "\n",
       ".sk-estimator-doc-link.fitted span {\n",
       "  /* fitted */\n",
       "  background: var(--sklearn-color-fitted-level-0);\n",
       "  border: var(--sklearn-color-fitted-level-3);\n",
       "}\n",
       "\n",
       ".sk-estimator-doc-link:hover span {\n",
       "  display: block;\n",
       "}\n",
       "\n",
       "/* \"?\"-specific style due to the `<a>` HTML tag */\n",
       "\n",
       "#sk-container-id-1 a.estimator_doc_link {\n",
       "  float: right;\n",
       "  font-size: 1rem;\n",
       "  line-height: 1em;\n",
       "  font-family: monospace;\n",
       "  background-color: var(--sklearn-color-background);\n",
       "  border-radius: 1rem;\n",
       "  height: 1rem;\n",
       "  width: 1rem;\n",
       "  text-decoration: none;\n",
       "  /* unfitted */\n",
       "  color: var(--sklearn-color-unfitted-level-1);\n",
       "  border: var(--sklearn-color-unfitted-level-1) 1pt solid;\n",
       "}\n",
       "\n",
       "#sk-container-id-1 a.estimator_doc_link.fitted {\n",
       "  /* fitted */\n",
       "  border: var(--sklearn-color-fitted-level-1) 1pt solid;\n",
       "  color: var(--sklearn-color-fitted-level-1);\n",
       "}\n",
       "\n",
       "/* On hover */\n",
       "#sk-container-id-1 a.estimator_doc_link:hover {\n",
       "  /* unfitted */\n",
       "  background-color: var(--sklearn-color-unfitted-level-3);\n",
       "  color: var(--sklearn-color-background);\n",
       "  text-decoration: none;\n",
       "}\n",
       "\n",
       "#sk-container-id-1 a.estimator_doc_link.fitted:hover {\n",
       "  /* fitted */\n",
       "  background-color: var(--sklearn-color-fitted-level-3);\n",
       "}\n",
       "</style><div id=\"sk-container-id-1\" class=\"sk-top-container\"><div class=\"sk-text-repr-fallback\"><pre>KNeighborsClassifier(n_neighbors=180)</pre><b>In a Jupyter environment, please rerun this cell to show the HTML representation or trust the notebook. <br />On GitHub, the HTML representation is unable to render, please try loading this page with nbviewer.org.</b></div><div class=\"sk-container\" hidden><div class=\"sk-item\"><div class=\"sk-estimator fitted sk-toggleable\"><input class=\"sk-toggleable__control sk-hidden--visually\" id=\"sk-estimator-id-1\" type=\"checkbox\" checked><label for=\"sk-estimator-id-1\" class=\"sk-toggleable__label fitted sk-toggleable__label-arrow fitted\">&nbsp;&nbsp;KNeighborsClassifier<a class=\"sk-estimator-doc-link fitted\" rel=\"noreferrer\" target=\"_blank\" href=\"https://scikit-learn.org/1.4/modules/generated/sklearn.neighbors.KNeighborsClassifier.html\">?<span>Documentation for KNeighborsClassifier</span></a><span class=\"sk-estimator-doc-link fitted\">i<span>Fitted</span></span></label><div class=\"sk-toggleable__content fitted\"><pre>KNeighborsClassifier(n_neighbors=180)</pre></div> </div></div></div></div>"
      ],
      "text/plain": [
       "KNeighborsClassifier(n_neighbors=180)"
      ]
     },
     "execution_count": 6,
     "metadata": {},
     "output_type": "execute_result"
    }
   ],
   "source": [
    "X_train, X_test, y_train, y_test = train_test_split(X, y, train_size=0.8, random_state=42)\n",
    "knn = KNeighborsClassifier(n_neighbors=180)\n",
    "knn.fit(X_train, y_train)\n",
    "#print('knn unif training accuracy: {:.4f}'.format(knn.score(X_train,y_train)))\n",
    "#print('knn unif test accuracy: {:.4f}'.format(knn.score(X_test, y_test)))"
   ]
  },
  {
   "cell_type": "code",
   "execution_count": 11,
   "metadata": {},
   "outputs": [
    {
     "name": "stdout",
     "output_type": "stream",
     "text": [
      "5 cross val score: 0.7346 accuracy with a standard deviation of 0.0058\n"
     ]
    }
   ],
   "source": [
    "cross_val_score(knn, X, y, cv=5)\n",
    "print(\"5 cross val score: %0.4f accuracy with a standard deviation of %0.4f\" % (cross_val_score(knn, X, y, cv=5).mean(), cross_val_score(knn, X, y, cv=5).std()))"
   ]
  },
  {
   "cell_type": "code",
   "execution_count": 7,
   "metadata": {},
   "outputs": [
    {
     "name": "stdout",
     "output_type": "stream",
     "text": [
      "0.7346 accuracy with a standard deviation of 0.0058\n"
     ]
    }
   ],
   "source": [
    "print(\"5 cross val score: %0.4f accuracy with a standard deviation of %0.4f\" % (cross_val_score(knn, X, y, cv=5).mean(), cross_val_score(knn, X, y, cv=5).std()))"
   ]
  },
  {
   "cell_type": "code",
   "execution_count": 6,
   "metadata": {},
   "outputs": [
    {
     "data": {
      "text/plain": [
       "array([0.73743062, 0.74358459, 0.74881345, 0.74282037, 0.73232242,\n",
       "       0.73385086, 0.73504686, 0.73219098, 0.72965689, 0.72816862])"
      ]
     },
     "execution_count": 6,
     "metadata": {},
     "output_type": "execute_result"
    }
   ],
   "source": [
    "cross_val_score(knn, X, y, cv=10)"
   ]
  },
  {
   "cell_type": "code",
   "execution_count": 8,
   "metadata": {},
   "outputs": [
    {
     "name": "stdout",
     "output_type": "stream",
     "text": [
      "10 cross val score: 0.7364 accuracy with a standard deviation of 0.0064\n"
     ]
    }
   ],
   "source": [
    "print(\"10 cross val score: %0.4f accuracy with a standard deviation of %0.4f\" % (cross_val_score(knn, X, y, cv=10).mean(), cross_val_score(knn, X, y, cv=10).std()))"
   ]
  },
  {
   "cell_type": "markdown",
   "metadata": {},
   "source": [
    "do cross vals for different ablations of knn, weights = uniform"
   ]
  },
  {
   "cell_type": "code",
   "execution_count": 12,
   "metadata": {},
   "outputs": [],
   "source": [
    "Ximport = df_noblanks.drop(['position','goalie_seconds','shots','faceoffs_taken','points'], axis=1).values\n",
    "Ximportish = df_noblanks.drop(['position','goals','assists','turnovers','shots_on_goal'], axis=1).values\n",
    "Xnotimport= df_noblanks.drop(['position','penalties','goalie_saves','goals_allowed','penalty_time','caused_turnovers','faceoffs_won'], axis=1).values\n"
   ]
  },
  {
   "cell_type": "code",
   "execution_count": 13,
   "metadata": {},
   "outputs": [
    {
     "name": "stdout",
     "output_type": "stream",
     "text": [
      "5 cross val score for important features removed: 0.7186 accuracy with a standard deviation of 0.0075\n"
     ]
    }
   ],
   "source": [
    "csvimp = cross_val_score(knn, Ximport, y, cv=5)\n",
    "print(\"5 cross val score for important features removed: %0.4f accuracy with a standard deviation of %0.4f\" % (csvimp.mean(), csvimp.std()))"
   ]
  },
  {
   "cell_type": "code",
   "execution_count": 14,
   "metadata": {},
   "outputs": [
    {
     "name": "stdout",
     "output_type": "stream",
     "text": [
      "5 cross val score for importantish features removed: 0.7296 accuracy with a standard deviation of 0.0064\n"
     ]
    }
   ],
   "source": [
    "csvimpish = cross_val_score(knn, Ximportish, y, cv=5)\n",
    "print(\"5 cross val score for importantish features removed: %0.4f accuracy with a standard deviation of %0.4f\" % (csvimpish.mean(), csvimpish.std()))"
   ]
  },
  {
   "cell_type": "code",
   "execution_count": 15,
   "metadata": {},
   "outputs": [
    {
     "name": "stdout",
     "output_type": "stream",
     "text": [
      "5 cross val score for not important features removed: 0.7319 accuracy with a standard deviation of 0.0058\n"
     ]
    }
   ],
   "source": [
    "csvnotimp = cross_val_score(knn, Xnotimport, y, cv=5)\n",
    "print(\"5 cross val score for not important features removed: %0.4f accuracy with a standard deviation of %0.4f\" % (csvnotimp.mean(), csvnotimp.std()))"
   ]
  },
  {
   "cell_type": "markdown",
   "metadata": {},
   "source": [
    "What's the permutation importance of features on the first year of games (first 130842 rows)...test on 1st 1k rows.\n"
   ]
  },
  {
   "cell_type": "code",
   "execution_count": 7,
   "metadata": {},
   "outputs": [],
   "source": [
    "X_train_1k = X_train[:1000]\n",
    "y_train_1k = y_train[:1000]"
   ]
  },
  {
   "cell_type": "code",
   "execution_count": 8,
   "metadata": {},
   "outputs": [
    {
     "data": {
      "text/plain": [
       "{'importances_mean': array([ 0.0114,  0.004 ,  0.0426,  0.1028,  0.041 ,  0.006 ,  0.0142,\n",
       "         0.006 ,  0.003 ,  0.0258,  0.001 ,  0.0116,  0.1812, -0.0004,\n",
       "        -0.0002]),\n",
       " 'importances_std': array([0.00402989, 0.00260768, 0.00564269, 0.01287478, 0.00368782,\n",
       "        0.00576194, 0.00285657, 0.00328634, 0.00296648, 0.00556417,\n",
       "        0.00063246, 0.00313688, 0.0069685 , 0.00149666, 0.00116619]),\n",
       " 'importances': array([[ 0.006,  0.018,  0.011,  0.013,  0.009],\n",
       "        [ 0.006,  0.002,  0.   ,  0.007,  0.005],\n",
       "        [ 0.038,  0.045,  0.034,  0.048,  0.048],\n",
       "        [ 0.093,  0.088,  0.101,  0.107,  0.125],\n",
       "        [ 0.04 ,  0.041,  0.048,  0.038,  0.038],\n",
       "        [ 0.007,  0.007,  0.006, -0.004,  0.014],\n",
       "        [ 0.019,  0.016,  0.012,  0.012,  0.012],\n",
       "        [ 0.009,  0.009,  0.006,  0.006,  0.   ],\n",
       "        [ 0.   , -0.001,  0.006,  0.006,  0.004],\n",
       "        [ 0.02 ,  0.024,  0.021,  0.035,  0.029],\n",
       "        [ 0.001,  0.001,  0.002,  0.001,  0.   ],\n",
       "        [ 0.013,  0.01 ,  0.008,  0.017,  0.01 ],\n",
       "        [ 0.184,  0.188,  0.175,  0.188,  0.171],\n",
       "        [ 0.001, -0.001, -0.003,  0.   ,  0.001],\n",
       "        [ 0.001, -0.001, -0.002,  0.001,  0.   ]])}"
      ]
     },
     "execution_count": 8,
     "metadata": {},
     "output_type": "execute_result"
    }
   ],
   "source": [
    "permimp = permutation_importance(knn, X_train_1k, y_train_1k, scoring='accuracy', random_state=42)\n",
    "permimp"
   ]
  },
  {
   "cell_type": "markdown",
   "metadata": {},
   "source": [
    "Note to self...do not do 10 n_repeats"
   ]
  },
  {
   "cell_type": "code",
   "execution_count": 9,
   "metadata": {},
   "outputs": [
    {
     "data": {
      "image/png": "[encoded data removed]",
      "text/plain": [
       "<Figure size 700x600 with 1 Axes>"
      ]
     },
     "metadata": {},
     "output_type": "display_data"
    }
   ],
   "source": [
    "\n",
    "perm_sorted_idx = permimp.importances_mean.argsort()\n",
    "\n",
    "fig, ax = plt.subplots(figsize=(7, 6))\n",
    "ax.boxplot(\n",
    "        permimp.importances[perm_sorted_idx].T,\n",
    "        vert=False,\n",
    "        labels=df_noblanks.columns[perm_sorted_idx],\n",
    "    )\n",
    "ax.axvline(x=0, color=\"k\", linestyle=\"--\")\n",
    "_ = ax.figure.tight_layout()"
   ]
  },
  {
   "cell_type": "code",
   "execution_count": 10,
   "metadata": {},
   "outputs": [],
   "source": [
    "X_train_year1 = X_train[:130000]\n",
    "y_train_year1 = y_train[:130000]"
   ]
  },
  {
   "cell_type": "code",
   "execution_count": null,
   "metadata": {},
   "outputs": [],
   "source": [
    "xtr_yr1_df = pd.DataFrame(X_train_year1, columns=['goals', 'assists', 'points', 'shots', 'shots_on_goal',\n",
    "       'ground_balls', 'turnovers',\n",
    "       'caused_turnovers', 'faceoffs_won', 'faceoffs_taken', 'penalties',\n",
    "       'penalty_time', 'goalie_seconds', 'goals_allowed', 'goalie_saves'])"
   ]
  },
  {
   "cell_type": "code",
   "execution_count": 11,
   "metadata": {},
   "outputs": [
    {
     "data": {
      "text/plain": [
       "{'importances_mean': array([9.49538462e-03, 9.94461538e-03, 3.97784615e-02, 1.05124615e-01,\n",
       "        5.11461538e-02, 1.12861538e-02, 1.46461538e-02, 7.73846154e-03,\n",
       "        8.08769231e-03, 2.73676923e-02, 1.36923077e-04, 5.50615385e-03,\n",
       "        1.97044615e-01, 9.84615385e-05, 7.23076923e-05]),\n",
       " 'importances_std': array([5.38606574e-04, 4.21617062e-04, 5.71086373e-04, 1.21664394e-03,\n",
       "        6.83811109e-04, 2.66975167e-04, 1.55224594e-04, 2.42326007e-04,\n",
       "        2.47907217e-04, 6.43408086e-04, 2.54660698e-05, 4.09918451e-04,\n",
       "        5.51692393e-04, 8.47411653e-05, 1.37311463e-04]),\n",
       " 'importances': array([[ 9.61538462e-03,  9.70769231e-03,  9.08461538e-03,\n",
       "          8.75384615e-03,  1.03153846e-02],\n",
       "        [ 1.07461538e-02,  9.68461538e-03,  9.73846154e-03,\n",
       "          9.57692308e-03,  9.97692308e-03],\n",
       "        [ 3.98153846e-02,  4.06384615e-02,  3.91692308e-02,\n",
       "          3.91461538e-02,  4.01230769e-02],\n",
       "        [ 1.05569231e-01,  1.04876923e-01,  1.03300000e-01,\n",
       "          1.04823077e-01,  1.07053846e-01],\n",
       "        [ 5.13769231e-02,  5.19846154e-02,  5.04461538e-02,\n",
       "          5.02461538e-02,  5.16769231e-02],\n",
       "        [ 1.13230769e-02,  1.14615385e-02,  1.14538462e-02,\n",
       "          1.07615385e-02,  1.14307692e-02],\n",
       "        [ 1.46230769e-02,  1.45000000e-02,  1.45769231e-02,\n",
       "          1.49461538e-02,  1.45846154e-02],\n",
       "        [ 7.94615385e-03,  7.52307692e-03,  7.52307692e-03,\n",
       "          8.10769231e-03,  7.59230769e-03],\n",
       "        [ 8.16153846e-03,  7.76923077e-03,  8.36153846e-03,\n",
       "          8.32307692e-03,  7.82307692e-03],\n",
       "        [ 2.68615385e-02,  2.73538462e-02,  2.73384615e-02,\n",
       "          2.85538462e-02,  2.67307692e-02],\n",
       "        [ 1.07692308e-04,  1.15384615e-04,  1.53846154e-04,\n",
       "          1.76923077e-04,  1.30769231e-04],\n",
       "        [ 5.80000000e-03,  6.06923077e-03,  5.56923077e-03,\n",
       "          5.11538462e-03,  4.97692308e-03],\n",
       "        [ 1.96430769e-01,  1.97892308e-01,  1.96884615e-01,\n",
       "          1.96561538e-01,  1.97453846e-01],\n",
       "        [ 2.30769231e-04,  1.53846154e-05,  1.53846154e-04,\n",
       "          8.46153846e-05,  7.69230769e-06],\n",
       "        [ 2.69230769e-04,  1.53846154e-05, -6.92307692e-05,\n",
       "          2.00000000e-04, -5.38461538e-05]])}"
      ]
     },
     "execution_count": 11,
     "metadata": {},
     "output_type": "execute_result"
    }
   ],
   "source": [
    "permimp_yr1 = permutation_importance(knn, X_train_year1, y_train_year1, scoring='accuracy', random_state=42)\n",
    "permimp_yr1"
   ]
  },
  {
   "cell_type": "code",
   "execution_count": 12,
   "metadata": {},
   "outputs": [
    {
     "data": {
      "image/png": "[encoded data removed]",
      "text/plain": [
       "<Figure size 700x600 with 1 Axes>"
      ]
     },
     "metadata": {},
     "output_type": "display_data"
    }
   ],
   "source": [
    "perm_sorted_idx_yr1 = permimp_yr1.importances_mean.argsort()\n",
    "\n",
    "fig, ax = plt.subplots(figsize=(7, 6))\n",
    "ax.boxplot(\n",
    "        permimp_yr1.importances[perm_sorted_idx_yr1].T,\n",
    "        vert=False,\n",
    "        labels=df_noblanks.columns[perm_sorted_idx_yr1],\n",
    "    )\n",
    "ax.axvline(x=0, color=\"k\", linestyle=\"--\")\n",
    "_ = ax.figure.tight_layout()"
   ]
  },
  {
   "cell_type": "markdown",
   "metadata": {},
   "source": [
    "Check precision and recall and f1 score"
   ]
  },
  {
   "cell_type": "code",
   "execution_count": 7,
   "metadata": {},
   "outputs": [
    {
     "data": {
      "text/plain": [
       "0.7401858257581851"
      ]
     },
     "execution_count": 7,
     "metadata": {},
     "output_type": "execute_result"
    }
   ],
   "source": [
    "prec = precision_score(y_test, knn.predict(X_test), average='micro')\n",
    "prec"
   ]
  },
  {
   "cell_type": "code",
   "execution_count": 11,
   "metadata": {},
   "outputs": [
    {
     "data": {
      "text/plain": [
       "array([0.6579237 , 0.77085632, 0.99814184, 0.64045072])"
      ]
     },
     "execution_count": 11,
     "metadata": {},
     "output_type": "execute_result"
    }
   ],
   "source": [
    "prec1 = precision_score(y_test, knn.predict(X_test), average=None)\n",
    "prec1"
   ]
  },
  {
   "cell_type": "code",
   "execution_count": 9,
   "metadata": {},
   "outputs": [
    {
     "data": {
      "text/plain": [
       "0.7401858257581851"
      ]
     },
     "execution_count": 9,
     "metadata": {},
     "output_type": "execute_result"
    }
   ],
   "source": [
    "rec  = recall_score(y_test, knn.predict(X_test), average='micro')\n",
    "rec"
   ]
  },
  {
   "cell_type": "code",
   "execution_count": 12,
   "metadata": {},
   "outputs": [
    {
     "data": {
      "text/plain": [
       "array([0.76831358, 0.94770045, 0.99613661, 0.38793519])"
      ]
     },
     "execution_count": 12,
     "metadata": {},
     "output_type": "execute_result"
    }
   ],
   "source": [
    "rec1  = recall_score(y_test, knn.predict(X_test), average=None)\n",
    "rec1"
   ]
  },
  {
   "cell_type": "code",
   "execution_count": 10,
   "metadata": {},
   "outputs": [
    {
     "data": {
      "text/plain": [
       "0.7401858257581851"
      ]
     },
     "execution_count": 10,
     "metadata": {},
     "output_type": "execute_result"
    }
   ],
   "source": [
    "f_one = f1_score(y_test, knn.predict(X_test), average='micro')\n",
    "f_one"
   ]
  },
  {
   "cell_type": "code",
   "execution_count": 13,
   "metadata": {},
   "outputs": [
    {
     "data": {
      "text/plain": [
       "array([0.70884658, 0.85017952, 0.99713822, 0.48319093])"
      ]
     },
     "execution_count": 13,
     "metadata": {},
     "output_type": "execute_result"
    }
   ],
   "source": [
    "f_one1 = f1_score(y_test, knn.predict(X_test), average=None)\n",
    "f_one1"
   ]
  },
  {
   "cell_type": "markdown",
   "metadata": {},
   "source": [
    "Show predictions based on knn, uniform, 180 neighbors, with 80% training\n",
    "\n",
    "and then show actuals\n",
    "\n",
    "compare the two and pull 100ish where they are the same for the error analysis and why they may not be accurate"
   ]
  }
 ],
 "metadata": {
  "kernelspec": {
   "display_name": "Python 3",
   "language": "python",
   "name": "python3"
  },
  "language_info": {
   "codemirror_mode": {
    "name": "ipython",
    "version": 3
   },
   "file_extension": ".py",
   "mimetype": "text/x-python",
   "name": "python",
   "nbconvert_exporter": "python",
   "pygments_lexer": "ipython3",
   "version": "3.12.1"
  }
 },
 "nbformat": 4,
 "nbformat_minor": 2
}
